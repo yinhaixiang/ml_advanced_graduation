{
 "cells": [
  {
   "cell_type": "markdown",
   "metadata": {},
   "source": [
    "# 开发环境"
   ]
  },
  {
   "cell_type": "code",
   "execution_count": 57,
   "metadata": {},
   "outputs": [
    {
     "name": "stdout",
     "output_type": "stream",
     "text": [
      "python版本：\n",
      "3.6.4 |Anaconda custom (64-bit)| (default, Jan 16 2018, 12:04:33) \n",
      "[GCC 4.2.1 Compatible Clang 4.0.1 (tags/RELEASE_401/final)]\n",
      "sys.version_info(major=3, minor=6, micro=4, releaselevel='final', serial=0)\n"
     ]
    }
   ],
   "source": [
    "%matplotlib inline\n",
    "import pandas as pd\n",
    "import seaborn as sns\n",
    "import sys \n",
    "print('python版本：')\n",
    "print(sys.version) \n",
    "print(sys.version_info)"
   ]
  },
  {
   "cell_type": "markdown",
   "metadata": {},
   "source": [
    "# 数据探索"
   ]
  },
  {
   "cell_type": "markdown",
   "metadata": {},
   "source": [
    "###### 20newsgroups数据集"
   ]
  },
  {
   "cell_type": "code",
   "execution_count": 3,
   "metadata": {},
   "outputs": [],
   "source": [
    "# 数据加载\n",
    "from sklearn.datasets import fetch_20newsgroups\n",
    "fetch_20newsgroups(data_home = 'dataFiles',categories = None,shuffle = True,random_state = 1)\n",
    "news_data = fetch_20newsgroups(data_home = 'dataFiles',subset = 'all',categories = None,shuffle = True,random_state = 1)"
   ]
  },
  {
   "cell_type": "markdown",
   "metadata": {},
   "source": [
    "数据集中data属性表示每个新闻的内容; filenames表示每个新闻的文件名称; target表示每个新闻的类别id; target_names表示新闻所包含的不同类别。"
   ]
  },
  {
   "cell_type": "code",
   "execution_count": 4,
   "metadata": {},
   "outputs": [
    {
     "name": "stdout",
     "output_type": "stream",
     "text": [
      "news data length: 18846\n"
     ]
    }
   ],
   "source": [
    "print('news data length:',len(news_data.data))"
   ]
  },
  {
   "cell_type": "markdown",
   "metadata": {},
   "source": [
    "数据集大小：数据集共有18846条记录"
   ]
  },
  {
   "cell_type": "code",
   "execution_count": 5,
   "metadata": {},
   "outputs": [
    {
     "name": "stdout",
     "output_type": "stream",
     "text": [
      "news data target names: ['alt.atheism', 'comp.graphics', 'comp.os.ms-windows.misc', 'comp.sys.ibm.pc.hardware', 'comp.sys.mac.hardware', 'comp.windows.x', 'misc.forsale', 'rec.autos', 'rec.motorcycles', 'rec.sport.baseball', 'rec.sport.hockey', 'sci.crypt', 'sci.electronics', 'sci.med', 'sci.space', 'soc.religion.christian', 'talk.politics.guns', 'talk.politics.mideast', 'talk.politics.misc', 'talk.religion.misc']\n",
      "news data target length: 20\n"
     ]
    }
   ],
   "source": [
    "print('news data target names:', news_data.target_names)\n",
    "print('news data target length:', len(news_data.target_names))"
   ]
  },
  {
   "cell_type": "markdown",
   "metadata": {},
   "source": [
    "新闻类别展示：数据集有20个新闻类别"
   ]
  },
  {
   "cell_type": "markdown",
   "metadata": {},
   "source": [
    "分析前十条新闻"
   ]
  },
  {
   "cell_type": "code",
   "execution_count": 6,
   "metadata": {},
   "outputs": [
    {
     "name": "stdout",
     "output_type": "stream",
     "text": [
      "前十条新闻文件名称为：\n",
      "['dataFiles/20news_home/20news-bydate-train/talk.religion.misc/83818'\n",
      " 'dataFiles/20news_home/20news-bydate-train/talk.politics.misc/178583'\n",
      " 'dataFiles/20news_home/20news-bydate-test/talk.religion.misc/84066'\n",
      " 'dataFiles/20news_home/20news-bydate-train/sci.crypt/15717'\n",
      " 'dataFiles/20news_home/20news-bydate-train/rec.autos/102915'\n",
      " 'dataFiles/20news_home/20news-bydate-train/sci.crypt/15357'\n",
      " 'dataFiles/20news_home/20news-bydate-test/comp.os.ms-windows.misc/10616'\n",
      " 'dataFiles/20news_home/20news-bydate-train/comp.windows.x/67248'\n",
      " 'dataFiles/20news_home/20news-bydate-train/talk.religion.misc/83501'\n",
      " 'dataFiles/20news_home/20news-bydate-test/sci.electronics/54100']\n"
     ]
    }
   ],
   "source": [
    "print('前十条新闻文件名称为：')\n",
    "print(news_data.filenames[:10])"
   ]
  },
  {
   "cell_type": "code",
   "execution_count": 6,
   "metadata": {},
   "outputs": [
    {
     "name": "stdout",
     "output_type": "stream",
     "text": [
      "前十条新闻类别id为：\n",
      "[19 18 19 11  7 11  2  5 19 12]\n"
     ]
    }
   ],
   "source": [
    "print('前十条新闻类别id为：')\n",
    "print(news_data.target[:10])"
   ]
  },
  {
   "cell_type": "code",
   "execution_count": 7,
   "metadata": {},
   "outputs": [
    {
     "name": "stdout",
     "output_type": "stream",
     "text": [
      "第一条新闻内容为：\n",
      "From: pharvey@quack.kfu.com (Paul Harvey)\n",
      "Subject: Re: Clarification of personal position\n",
      "Organization: The Duck Pond public unix: +1 408 249 9630, log in as 'guest'.\n",
      "Lines: 26\n",
      "\n",
      "In article <C5rBHt.Fw4@athena.cs.uga.edu> \n",
      "hudson@athena.cs.uga.edu (Paul Hudson Jr) writes:\n",
      ">In article <C5MuIw.AqC@mailer.cc.fsu.edu> \n",
      "dlecoint@garnet.acns.fsu.edu (Darius_Lecointe) writes:\n",
      ">>If it were a sin to violate Sunday no one could\n",
      ">>ever be forgiven for that for Jesus never kept Sunday holy.  He only\n",
      ">>recognized one day of the seven as holy.\n",
      ">Jesus also recognized other holy days, like the Passover.  Acts 15 says \n",
      ">that no more should be layed on the Gentiles than that which is necessary.\n",
      ">The sabbath is not in the list, nor do any of the epistles instruct people\n",
      ">to keep the 7th day, while Christians were living among people who did not\n",
      ">keep the 7th day.  It looks like that would have been a problem.\n",
      ">Instead, we have Scriptures telling us that all days can be esteemed alike\n",
      ">(Romans 14:5) and that no man should judge us in regard to what kind of\n",
      ">food we eat, Jewish holy days we keep, or _in regard to the sabbath. (Col. 2.)\n",
      ">>The\n",
      ">>question is \"On what authority do we proclaim that the requirements of the\n",
      ">>fourth commandment are no longer relevant to modern Christians?\"\n",
      ">I don't think that the Sabbath, or any other command of the law is totally\n",
      ">irrelevant to modern Christians, but what about Collosions 2, where it says\n",
      ">that we are not to be judged in regard to the keeping of the sabbath?\n",
      "\n",
      "Why are you running away from the word of Jesus? Has somebody superseded\n",
      "the word of Jesus? If you don't follow the morality of the Ten\n",
      "Commandments and the Law and the Prophets and the word of Jesus, whose\n",
      "morality do you follow?\n",
      "\n"
     ]
    }
   ],
   "source": [
    "print('第一条新闻内容为：')\n",
    "print(news_data.data[0])"
   ]
  },
  {
   "cell_type": "markdown",
   "metadata": {},
   "source": [
    "新闻内容过长，因此我们输出前十条新闻前200个字符"
   ]
  },
  {
   "cell_type": "code",
   "execution_count": 8,
   "metadata": {},
   "outputs": [
    {
     "name": "stdout",
     "output_type": "stream",
     "text": [
      "前十条新闻的每条的前200个字符：\n",
      "第 1 条: From: pharvey@quack.kfu.com (Paul Harvey)\n",
      "Subject: Re: Clarification of personal position\n",
      "Organization: The Duck Pond public unix: +1 408 249 9630, log in as 'guest'.\n",
      "Lines: 26\n",
      "\n",
      "In article <C5rBHt.Fw4\n",
      "第 2 条: From: chloupek@ohstpy.mps.ohio-state.edu\n",
      "Subject: Re: NC vs Hunt (Marine Gay Bashing in Wilmington NC) verdict\n",
      "Organization: The Ohio State University, Department of Physics\n",
      "Lines: 27\n",
      "\n",
      "In article <mat\n",
      "第 3 条: From: rgv9488@ritvax.isc.rit.edu\n",
      "Subject: Hail Stan!\n",
      "Nntp-Posting-Host: vaxa.isc.rit.edu\n",
      "Reply-To: rgv9488@ritvax.isc.rit.edu\n",
      "Organization: Rochester Institute of Technology\n",
      "Lines: 71\n",
      "\n",
      "\n",
      "    I found th\n",
      "第 4 条: From: jhan@debra.dgbt.doc.ca (Jerry Han)\n",
      "Subject: Overreacting (was Re: Once tapped, your code is no good any more)\n",
      "Nntp-Posting-Host: debra.dgbt.doc.ca\n",
      "Organization: Communications Research Centre, O\n",
      "第 5 条: From: boyle@cactus.org (Craig Boyle)\n",
      "Subject: Re: New break pads & exhausts after 96K km (60K mi) on '90 Maxima?\n",
      "Organization: Capital Area Central Texas UNIX Society, Austin, Tx\n",
      "Lines: 78\n",
      "\n",
      "In article\n",
      "第 6 条: From: rjc@hal.gnu.ai.mit.edu (Ray)\n",
      "Subject: Re: Once tapped, your code is no good any more.\n",
      "Distribution: na\n",
      "Organization: /etc/organization\n",
      "Lines: 27\n",
      "\n",
      "In article <C5pGFu.IA4@dscomsa.desy.de> hallam@z\n",
      "第 7 条: From: martijn@cs.vu.nl (Lemmens ML)\n",
      "Subject: Workgroups for Windows\n",
      "Organization: Fac. Wiskunde & Informatica, VU, Amsterdam\n",
      "Lines: 22\n",
      "\n",
      "Hello,\n",
      "\n",
      "I want a little network for 3 users. All users want to r\n",
      "第 8 条: From: jeremy@wildcat.npa.uiuc.edu (Jeremy Payne)\n",
      "Subject: Re: Xt intrinsics: slow popups\n",
      "Organization: Neuronal Pattern Analysis, University of Illinois\n",
      "Lines: 49\n",
      "\n",
      "In article <735516045.1507@minster.y\n",
      "第 9 条: From: alamut@netcom.com (Max Delysid (y!))\n",
      "Subject: Re: Rosicrucian Order(s) ?!\n",
      "Organization: Longinus Software & Garden ov Delights\n",
      "Lines: 27\n",
      "\n",
      "In article <1qppef$i5b@usenet.INS.CWRU.Edu> ch981@clevel\n",
      "第 10 条: From: wwerner@thor.mlb.semi.harris.com (William S. Werner)\n",
      "Subject: Harris Semiconductor's AnswerFAX Information\n",
      "Nntp-Posting-Host: thor.mlb.semi.harris.com\n",
      "Organization: Harris Semiconductor, Melbour\n"
     ]
    }
   ],
   "source": [
    "print('前十条新闻的每条的前200个字符：')\n",
    "for i in range(10):\n",
    "    print('第',i + 1,'条:',news_data.data[i][:200])"
   ]
  },
  {
   "cell_type": "markdown",
   "metadata": {},
   "source": [
    "前十条新闻后200个字符"
   ]
  },
  {
   "cell_type": "code",
   "execution_count": 7,
   "metadata": {},
   "outputs": [
    {
     "name": "stdout",
     "output_type": "stream",
     "text": [
      "前十条新闻的每条的后200个字符：\n",
      "第 1 条: he word of Jesus? Has somebody superseded\n",
      "the word of Jesus? If you don't follow the morality of the Ten\n",
      "Commandments and the Law and the Prophets and the word of Jesus, whose\n",
      "morality do you follow?\n",
      "\n",
      "第 2 条: Physics -- *The* Ohio State University\n",
      "(Not just any Ohio State University) \n",
      "\n",
      "\"There is only one hard-and-fast rule about the place to have a party:  \n",
      "somebody else's place.\"\n",
      "\t\t\t\t\t\t\t--P.J. O'Rourke\n",
      "\n",
      "\n",
      "\n",
      "第 3 条: -------------------------------| DIE!!\n",
      "    I AM DARKNESS ETERNAL! CALL ME! MY PHONE NUMBER IS (716) 475-4197   | DIE!!\n",
      "--------------------------------------------------------------------------------\n",
      "\n",
      "第 4 条: re my opinions, and my opinions only. \\\\\\\\\\\\\\\\\\\\\\\\\\\n",
      "\\\\\\\\\\\\\\\\\\ A proud and frozen member of the Mighty Warriors Band ////////  \n",
      "\"Memories of those I've left behind, still ringing in my ears.\"-Genesis-\n",
      "\n",
      "第 5 条: o not weave between traffic cones at road works.\"\n",
      ">                                    - from the new British Highway Code\n",
      ">                                           (Toronto Star April 3, 1993)\n",
      ">\n",
      "\n",
      "\n",
      "\n",
      "第 6 条: buses for accumulation of information on individuals. If you think\n",
      "credit companies are bad, ...  Well, I'm sure a democratic socialist society\n",
      "would vote for absolute privacy of all citizens -- NOT!\n",
      "\n",
      "第 7 条: \n",
      "- Is this possible?\n",
      "- What exactly are the possibilities and advantages of Workgroups\n",
      "  for Windows?\n",
      "- Will all the computers be fast enough? Behind all three, someone\n",
      "  is working.\n",
      "\n",
      "Thanks,\n",
      "Martijn\n",
      "\n",
      "第 8 条: ed deep enough to figure out exactly why though...\n",
      "\n",
      "---------------------------\n",
      "Jeremy Payne\n",
      "UIUC Neuroscience program /\n",
      "College of Medicine\n",
      "jrpayne@uiuc.edu\n",
      "(217)244-4478\n",
      "---------------------------\n",
      "\n",
      "第 9 条: ormation war, it is being fought now...\"\n",
      "<---|---> !MaX! Delysid - alamut@netcom.com - ALamutBBS 415.431.7541 1:125/51\n",
      "--->|<-------------------------------------------------------------------------\n",
      "\n",
      "\n",
      "第 10 条: Florida     \"....life is but a candle, and a \n",
      "(407)729-5515         dream will give it flame...\" - Rush, Caress of Steel\n",
      "===========================================================================\n",
      " \n",
      "\n",
      "\n"
     ]
    }
   ],
   "source": [
    "print('前十条新闻的每条的后200个字符：')\n",
    "for i in range(10):\n",
    "    print('第',i + 1,'条:',news_data.data[i][-200:])"
   ]
  },
  {
   "cell_type": "markdown",
   "metadata": {},
   "source": [
    "通过观察，文本内容前面还是比较统一的格式，而后面内容各不相同。\n",
    "\n",
    "各个种类新闻的数目"
   ]
  },
  {
   "cell_type": "code",
   "execution_count": 9,
   "metadata": {},
   "outputs": [],
   "source": [
    "from collections import Counter\n",
    "news_cnt = Counter()\n",
    "for temp in news_data.target:\n",
    "    news_cnt[temp] += 1"
   ]
  },
  {
   "cell_type": "markdown",
   "metadata": {},
   "source": [
    "由上图可见，首部和尾部类别的新闻数据稍微少一些，其他类别的新闻数据分布还是比较均匀的。总体来说，这些数据比较适合进行训练分类的。"
   ]
  },
  {
   "cell_type": "code",
   "execution_count": 19,
   "metadata": {},
   "outputs": [
    {
     "name": "stdout",
     "output_type": "stream",
     "text": [
      "From: schroedj@cnsvax.uwec.edu\n",
      "Subject: ForSale 286 and Hard-drive\n",
      "Organization: University of Wisconsin Eau Claire\n",
      "Lines: 17\n",
      "\n",
      "Packer Bell 12MHZ 286\n",
      "  * 5 16bit expansion slots\n",
      "  * 2 5.25\" external drive bays (floppies)\n",
      "  * 1 3.5\" internal drive bay (hard-drive)\n",
      "  * 1.44MB 3.5\" floppy drive\n",
      "  * 1MB of RAM\n",
      " \n",
      "$140 or Best offer (including shipping)\n",
      " \n",
      "Segate 32MB ST138N SCSI Hard-drive\n",
      "  * Great shape\n",
      "  * Controller\n",
      "  * 32MB\n",
      "  * 3.5\" format\n",
      " \n",
      "$85 or best offer (including shipping)\n",
      " \n",
      "\n"
     ]
    }
   ],
   "source": [
    "print((news_data.data[10]))"
   ]
  },
  {
   "cell_type": "markdown",
   "metadata": {},
   "source": [
    "观察新闻本文长度"
   ]
  },
  {
   "cell_type": "code",
   "execution_count": 109,
   "metadata": {},
   "outputs": [],
   "source": [
    "len_news_data = []\n",
    "for (idx) in range(len(news_data.data)):\n",
    "    len_news_data.append(len(news_data.data[idx]))"
   ]
  },
  {
   "cell_type": "code",
   "execution_count": 115,
   "metadata": {},
   "outputs": [
    {
     "name": "stdout",
     "output_type": "stream",
     "text": [
      "新闻字数最小为: 115\n",
      "新闻字数最大为: 160616\n",
      "新闻字数平均为: 1902.52589409\n"
     ]
    }
   ],
   "source": [
    "len_news_data = len_news_data\n",
    "print('新闻字数最小为:', np.min(len_news_data))\n",
    "print('新闻字数最大为:', np.max(len_news_data))\n",
    "print('新闻字数平均为:', np.mean(len_news_data))"
   ]
  },
  {
   "cell_type": "markdown",
   "metadata": {},
   "source": [
    "观察新闻字数分布情况"
   ]
  },
  {
   "cell_type": "code",
   "execution_count": 121,
   "metadata": {},
   "outputs": [
    {
     "data": {
      "text/plain": [
       "Counter({'news_0_10000': 18555,\n",
       "         'news_10000_20000': 163,\n",
       "         'news_150000_160616': 1,\n",
       "         'news_20000_30000': 44,\n",
       "         'news_30000_40000': 24,\n",
       "         'news_40000_50000': 19,\n",
       "         'news_50000_60000': 30,\n",
       "         'news_60000_70000': 7,\n",
       "         'news_70000_80000': 3})"
      ]
     },
     "execution_count": 121,
     "metadata": {},
     "output_type": "execute_result"
    }
   ],
   "source": [
    "news_count = Counter()\n",
    "\n",
    "for idx in range(len(len_news_data)):\n",
    "    value = len_news_data[idx]\n",
    "    if value <= 10000:\n",
    "        news_count['news_0_10000'] += 1\n",
    "    elif value <= 20000:\n",
    "        news_count['news_10000_20000'] += 1\n",
    "    elif value <= 30000:\n",
    "        news_count['news_20000_30000'] += 1\n",
    "    elif value <= 40000:\n",
    "        news_count['news_30000_40000'] += 1\n",
    "    elif value <= 50000:\n",
    "        news_count['news_40000_50000'] += 1\n",
    "    elif value <= 60000:\n",
    "        news_count['news_50000_60000'] += 1\n",
    "    elif value <= 70000:\n",
    "        news_count['news_60000_70000'] += 1\n",
    "    elif value <= 80000:\n",
    "        news_count['news_70000_80000'] += 1\n",
    "    elif value <= 90000:\n",
    "        news_count['news_80000_90000'] += 1\n",
    "    elif value <= 100000:\n",
    "        news_count['news_90000_100000'] += 1\n",
    "    elif value <= 110000:\n",
    "        news_count['news_100000_10000'] += 1\n",
    "    elif value <= 120000:\n",
    "        news_count['news_110000_120000'] += 1\n",
    "    elif value <= 130000:\n",
    "        news_count['news_120000_130000'] += 1\n",
    "    elif value <= 140000:\n",
    "        news_count['news_130000_140000'] += 1\n",
    "    elif value <= 150000:\n",
    "        news_count['news_140000_150000'] += 1\n",
    "    else:\n",
    "        news_count['news_150000_160616'] += 1\n",
    "\n",
    "news_count"
   ]
  },
  {
   "cell_type": "code",
   "execution_count": 140,
   "metadata": {},
   "outputs": [
    {
     "data": {
      "text/html": [
       "<div>\n",
       "<style scoped>\n",
       "    .dataframe tbody tr th:only-of-type {\n",
       "        vertical-align: middle;\n",
       "    }\n",
       "\n",
       "    .dataframe tbody tr th {\n",
       "        vertical-align: top;\n",
       "    }\n",
       "\n",
       "    .dataframe thead th {\n",
       "        text-align: right;\n",
       "    }\n",
       "</style>\n",
       "<table border=\"1\" class=\"dataframe\">\n",
       "  <thead>\n",
       "    <tr style=\"text-align: right;\">\n",
       "      <th></th>\n",
       "      <th>range</th>\n",
       "      <th>count</th>\n",
       "    </tr>\n",
       "  </thead>\n",
       "  <tbody>\n",
       "    <tr>\n",
       "      <th>0</th>\n",
       "      <td>news_0_10000</td>\n",
       "      <td>18555</td>\n",
       "    </tr>\n",
       "    <tr>\n",
       "      <th>1</th>\n",
       "      <td>news_10000_20000</td>\n",
       "      <td>163</td>\n",
       "    </tr>\n",
       "    <tr>\n",
       "      <th>2</th>\n",
       "      <td>news_40000_50000</td>\n",
       "      <td>19</td>\n",
       "    </tr>\n",
       "    <tr>\n",
       "      <th>3</th>\n",
       "      <td>news_20000_30000</td>\n",
       "      <td>44</td>\n",
       "    </tr>\n",
       "    <tr>\n",
       "      <th>4</th>\n",
       "      <td>news_30000_40000</td>\n",
       "      <td>24</td>\n",
       "    </tr>\n",
       "    <tr>\n",
       "      <th>5</th>\n",
       "      <td>news_50000_60000</td>\n",
       "      <td>30</td>\n",
       "    </tr>\n",
       "    <tr>\n",
       "      <th>6</th>\n",
       "      <td>news_70000_80000</td>\n",
       "      <td>3</td>\n",
       "    </tr>\n",
       "    <tr>\n",
       "      <th>7</th>\n",
       "      <td>news_60000_70000</td>\n",
       "      <td>7</td>\n",
       "    </tr>\n",
       "    <tr>\n",
       "      <th>8</th>\n",
       "      <td>news_150000_160616</td>\n",
       "      <td>1</td>\n",
       "    </tr>\n",
       "  </tbody>\n",
       "</table>\n",
       "</div>"
      ],
      "text/plain": [
       "                range  count\n",
       "0        news_0_10000  18555\n",
       "1    news_10000_20000    163\n",
       "2    news_40000_50000     19\n",
       "3    news_20000_30000     44\n",
       "4    news_30000_40000     24\n",
       "5    news_50000_60000     30\n",
       "6    news_70000_80000      3\n",
       "7    news_60000_70000      7\n",
       "8  news_150000_160616      1"
      ]
     },
     "execution_count": 140,
     "metadata": {},
     "output_type": "execute_result"
    }
   ],
   "source": [
    "df_news_count = pd.DataFrame.from_dict(news_count, orient='index').reset_index()\n",
    "df_news_count = df_news_count.rename(columns={'index':'range', 0:'count'})\n",
    "df_news_count"
   ]
  },
  {
   "cell_type": "code",
   "execution_count": 165,
   "metadata": {},
   "outputs": [
    {
     "data": {
      "text/plain": [
       "<Container object of 9 artists>"
      ]
     },
     "execution_count": 165,
     "metadata": {},
     "output_type": "execute_result"
    },
    {
     "data": {
      "image/png": "[encoded data removed]",
      "text/plain": [
       "<matplotlib.figure.Figure at 0x1a2ebdf4a8>"
      ]
     },
     "metadata": {},
     "output_type": "display_data"
    }
   ],
   "source": [
    "plt.figure(figsize=(20,6))\n",
    "plt.bar(df_news_count['range'], df_news_count['count'])\n"
   ]
  },
  {
   "cell_type": "markdown",
   "metadata": {},
   "source": [
    "由上图可以看出大部分新闻的文本长度都在10000以下, 这样对深度学习可以稍微放心一点"
   ]
  },
  {
   "cell_type": "markdown",
   "metadata": {},
   "source": [
    "# 数据预处理"
   ]
  },
  {
   "cell_type": "markdown",
   "metadata": {},
   "source": [
    "分词处理"
   ]
  },
  {
   "cell_type": "code",
   "execution_count": 21,
   "metadata": {},
   "outputs": [
    {
     "data": {
      "text/plain": [
       "'From: schroedj@cnsvax.uwec.edu\\nSubject: ForSale 286 and Hard-drive\\nOrganization: University of Wisconsin Eau Claire\\nLines: 17\\n\\nPacker Bell 12MHZ 286\\n  * 5 16bit expansion slots\\n  * 2 5.25\" external drive bays (floppies)\\n  * 1 3.5\" internal drive bay (hard-drive)\\n  * 1.44MB 3.5\" floppy drive\\n  * 1MB of RAM\\n \\n$140 or Best offer (including shipping)\\n \\nSegate 32MB ST138N SCSI Hard-drive\\n  * Great shape\\n  * Controller\\n  * 32MB\\n  * 3.5\" format\\n \\n$85 or best offer (including shipping)\\n \\n'"
      ]
     },
     "execution_count": 21,
     "metadata": {},
     "output_type": "execute_result"
    }
   ],
   "source": [
    "news_data.data[10]"
   ]
  },
  {
   "cell_type": "code",
   "execution_count": 12,
   "metadata": {},
   "outputs": [],
   "source": [
    "from nltk import word_tokenize\n",
    "news_tokens = [word_tokenize(temp) for temp in news_data.data]"
   ]
  },
  {
   "cell_type": "markdown",
   "metadata": {},
   "source": [
    "查看第一个新闻的分词结果：里面包含标点符号，特殊符号，数字，还有正常单词等。"
   ]
  },
  {
   "cell_type": "code",
   "execution_count": 13,
   "metadata": {},
   "outputs": [
    {
     "name": "stdout",
     "output_type": "stream",
     "text": [
      "['From', ':', 'pharvey', '@', 'quack.kfu.com', '(', 'Paul', 'Harvey', ')', 'Subject', ':', 'Re', ':', 'Clarification', 'of', 'personal', 'position', 'Organization', ':', 'The', 'Duck', 'Pond', 'public', 'unix', ':', '+1', '408', '249', '9630', ',', 'log', 'in', 'as', \"'guest\", \"'\", '.', 'Lines', ':', '26', 'In', 'article', '<', 'C5rBHt.Fw4', '@', 'athena.cs.uga.edu', '>', 'hudson', '@', 'athena.cs.uga.edu', '(', 'Paul', 'Hudson', 'Jr', ')', 'writes', ':', '>', 'In', 'article', '<', 'C5MuIw.AqC', '@', 'mailer.cc.fsu.edu', '>', 'dlecoint', '@', 'garnet.acns.fsu.edu', '(', 'Darius_Lecointe', ')', 'writes', ':', '>', '>', 'If', 'it', 'were', 'a', 'sin', 'to', 'violate', 'Sunday', 'no', 'one', 'could', '>', '>', 'ever', 'be', 'forgiven', 'for', 'that', 'for', 'Jesus', 'never', 'kept', 'Sunday', 'holy', '.', 'He', 'only', '>', '>', 'recognized', 'one', 'day', 'of', 'the', 'seven', 'as', 'holy', '.', '>', 'Jesus', 'also', 'recognized', 'other', 'holy', 'days', ',', 'like', 'the', 'Passover', '.', 'Acts', '15', 'says', '>', 'that', 'no', 'more', 'should', 'be', 'layed', 'on', 'the', 'Gentiles', 'than', 'that', 'which', 'is', 'necessary', '.', '>', 'The', 'sabbath', 'is', 'not', 'in', 'the', 'list', ',', 'nor', 'do', 'any', 'of', 'the', 'epistles', 'instruct', 'people', '>', 'to', 'keep', 'the', '7th', 'day', ',', 'while', 'Christians', 'were', 'living', 'among', 'people', 'who', 'did', 'not', '>', 'keep', 'the', '7th', 'day', '.', 'It', 'looks', 'like', 'that', 'would', 'have', 'been', 'a', 'problem', '.', '>', 'Instead', ',', 'we', 'have', 'Scriptures', 'telling', 'us', 'that', 'all', 'days', 'can', 'be', 'esteemed', 'alike', '>', '(', 'Romans', '14:5', ')', 'and', 'that', 'no', 'man', 'should', 'judge', 'us', 'in', 'regard', 'to', 'what', 'kind', 'of', '>', 'food', 'we', 'eat', ',', 'Jewish', 'holy', 'days', 'we', 'keep', ',', 'or', '_in', 'regard', 'to', 'the', 'sabbath', '.', '(', 'Col', '.', '2', '.', ')', '>', '>', 'The', '>', '>', 'question', 'is', '``', 'On', 'what', 'authority', 'do', 'we', 'proclaim', 'that', 'the', 'requirements', 'of', 'the', '>', '>', 'fourth', 'commandment', 'are', 'no', 'longer', 'relevant', 'to', 'modern', 'Christians', '?', \"''\", '>', 'I', 'do', \"n't\", 'think', 'that', 'the', 'Sabbath', ',', 'or', 'any', 'other', 'command', 'of', 'the', 'law', 'is', 'totally', '>', 'irrelevant', 'to', 'modern', 'Christians', ',', 'but', 'what', 'about', 'Collosions', '2', ',', 'where', 'it', 'says', '>', 'that', 'we', 'are', 'not', 'to', 'be', 'judged', 'in', 'regard', 'to', 'the', 'keeping', 'of', 'the', 'sabbath', '?', 'Why', 'are', 'you', 'running', 'away', 'from', 'the', 'word', 'of', 'Jesus', '?', 'Has', 'somebody', 'superseded', 'the', 'word', 'of', 'Jesus', '?', 'If', 'you', 'do', \"n't\", 'follow', 'the', 'morality', 'of', 'the', 'Ten', 'Commandments', 'and', 'the', 'Law', 'and', 'the', 'Prophets', 'and', 'the', 'word', 'of', 'Jesus', ',', 'whose', 'morality', 'do', 'you', 'follow', '?']\n"
     ]
    }
   ],
   "source": [
    "print(news_tokens[0])"
   ]
  },
  {
   "cell_type": "markdown",
   "metadata": {},
   "source": [
    "查看原始数据中不同单词构成的词典长度：可以观察到词典长度比较大。"
   ]
  },
  {
   "cell_type": "code",
   "execution_count": 14,
   "metadata": {},
   "outputs": [],
   "source": [
    "def get_dict_cnt(tokens):\n",
    "    dict_cnt = Counter()\n",
    "    for temp_list in tokens:\n",
    "        for temp in temp_list:\n",
    "            dict_cnt[temp] += 1\n",
    "    return dict_cnt"
   ]
  },
  {
   "cell_type": "code",
   "execution_count": 15,
   "metadata": {},
   "outputs": [
    {
     "name": "stdout",
     "output_type": "stream",
     "text": [
      "284113\n"
     ]
    }
   ],
   "source": [
    "news_dict_cnt = get_dict_cnt(news_tokens)\n",
    "print(len(news_dict_cnt))"
   ]
  },
  {
   "cell_type": "markdown",
   "metadata": {},
   "source": [
    "输出词典最多的前20个词汇："
   ]
  },
  {
   "cell_type": "code",
   "execution_count": 16,
   "metadata": {},
   "outputs": [
    {
     "data": {
      "image/png": "[encoded data removed]",
      "text/plain": [
       "<matplotlib.figure.Figure at 0x1a2a077048>"
      ]
     },
     "metadata": {},
     "output_type": "display_data"
    }
   ],
   "source": [
    "def bar_of_news_dict(cnt):\n",
    "    name_list = []\n",
    "    num_list = []\n",
    "    for key,value in cnt.most_common(20):\n",
    "        name_list.append(key)\n",
    "        num_list.append(value)\n",
    "\n",
    "    font_size = 10 # 字体大小\n",
    "    fig_size = (16, 6) # 图表大小\n",
    "\n",
    "    # 更新字体大小\n",
    "    mpl.rcParams['font.size'] = font_size\n",
    "    # 更新图表大小\n",
    "    mpl.rcParams['figure.figsize'] = fig_size\n",
    "    # 设置柱形图宽度\n",
    "    bar_width = 0.35\n",
    "\n",
    "    index = np.arange(20)\n",
    "    # 绘制 train\n",
    "    rects = plt.bar(index, num_list, bar_width, color='#0072BC')\n",
    "    # X轴标题\n",
    "    plt.xticks(index, name_list)\n",
    "    # Y轴范围\n",
    "    #plt.ylim(ymax=100, ymin=0)\n",
    "    # 图表标题\n",
    "    plt.title('news dict top 20')\n",
    "    # 图例显示在图表下方\n",
    "    #plt.legend(loc='upper center', bbox_to_anchor=(0.5, -0.05), fancybox=True, ncol=5)\n",
    "\n",
    "    # 添加数据标签\n",
    "    def add_labels(rects):\n",
    "        for rect in rects:\n",
    "            height = rect.get_height()\n",
    "            plt.text(rect.get_x() + rect.get_width() / 2, height, height, ha='center', va='bottom')\n",
    "            # 柱形图边缘用白色填充，纯粹为了美观\n",
    "            rect.set_edgecolor('white')\n",
    "\n",
    "    add_labels(rects)\n",
    "\n",
    "    \n",
    "bar_of_news_dict(news_dict_cnt)"
   ]
  },
  {
   "cell_type": "markdown",
   "metadata": {},
   "source": [
    "可以看出：出现频率高的很多都是标点符号等这些没有实际意义的字符。下面进行预处理：\n",
    "\n",
    "首先，我们观察到除了标点符号和介词，连词等这些功能性词汇，还有一个'AX单词出现频率很高。下面探索该词出现频率高的原因：\n",
    "\n",
    "打印出'AX单词所在的文档和位置"
   ]
  },
  {
   "cell_type": "code",
   "execution_count": 17,
   "metadata": {},
   "outputs": [
    {
     "name": "stdout",
     "output_type": "stream",
     "text": [
      "[(1474, 457), (2637, 220), (3525, 21870), (3615, 11393), (3975, 316), (4197, 53953), (10720, 42951), (12034, 219), (12138, 4212), (12500, 288), (12528, 380), (12761, 31743), (12838, 222), (15826, 18366), (16571, 268), (16640, 35153), (18720, 428)]\n"
     ]
    }
   ],
   "source": [
    "ax_list = []\n",
    "for i in range(len(news_data.data)):\n",
    "    temp = news_data.data[i]\n",
    "    ax_index = temp.find('\\'AX')\n",
    "    if ax_index > -1:\n",
    "        ax_list.append((i,ax_index))\n",
    "\n",
    "print(ax_list)"
   ]
  },
  {
   "cell_type": "markdown",
   "metadata": {},
   "source": [
    "观察其上下文"
   ]
  },
  {
   "cell_type": "code",
   "execution_count": 18,
   "metadata": {},
   "outputs": [
    {
     "name": "stdout",
     "output_type": "stream",
     "text": [
      "第 1474 条： `]G9S2+[>WM4QD]F0->7EXJWZ5F,8>'AX>'AX>'\n",
      "MAX>'AX>'AX>'AX>'AX>\n",
      "第 2637 条： Part 8 of 14 ------------\n",
      "MAX>'AX>'AX>'AX>'AYZ>8=#0T\"L!A%(!*\n",
      "第 3525 条： 5%14?%6\\5K15O\n",
      "M;V\\5;ZBH;V^H;ZB'AX<J*BHJN[N[N[LJNRHJ*BHJ*BHJ*\n",
      "第 3615 条： ICNL'6C!TQ\"Q\n",
      "ML;E#K/&DFGPLQWTL'AXL71XU+'UT?;I=?;K\"NGVZNB;\"LL\n",
      "第 3975 条： 3T]F9F9`P,#7EY>NRIZWT='I0MFQ#&'AX>'AX>'AX>'AX>'AX>'AX>'\n",
      "MAX>\n",
      "第 4197 条： \"0Z[81M4KL&Q#?#RFDE9; /$)SZ PW'AX*T=$5)1[%7;@#(@\n",
      "MP5P1.P\"!X<\n",
      "第 10720 条： XCM.E>#CZXN'W[S4T ?/W#VO+_--K#'AX6K.G\n",
      "ME\\ >ISURL#]RT[+;NP -?\n",
      "第 12034 条： South Dakota\n",
      "Lines: 958\n",
      "\n",
      "\n",
      "MAX>'AX>'AX>'AX>'AX>'AX>'AX>'AX>'A\n",
      "第 12138 条： H_QCR6/\\?'Q\\?%'24E1\n",
      "M484G-\"=M;'AX>'AX>#$))VQ1<(5P0G!\"A6$D \"0\n",
      "第 12500 条： EI:6E1T='1Z4+I:5'1Z4+\n",
      "M\"V;$Q#&'AX>'AX>'AX>'AX>'AX>'AX>'AX>'A\n",
      "第 12528 条： 3T]/9F9F0->7KN[N[N[7EX#`P.9F9F'AX>'AX>'AX>'AX>'AX>'\n",
      "MAX>'AX>\n",
      "第 12761 条：  XOY>GLN\n",
      "M/->Q3XP93'HTV:KF<$.J'AX)V'9<4:\"F!/&;.'[/$\\;L/X9,^:\n",
      "第 12838 条： art 12 of 14 ------------\n",
      "MAX>'AX>'AX>'AX>'AX>'AX>'AX>'AX>'A\n",
      "第 15826 条： )KJR\n",
      "MNG2ZNKI]=%U]7;I=71X>'GW\"'AX>NBQ=-7TU770L+\"P>?7W''GTUQ\\\n",
      "第 16571 条： 7;UG)\\&V0&>*YZ>*W5&$'Z]M;T0AX>'AX>'AX>'\n",
      "MAX=7HLAL(;7(5U\\,MEI\n",
      "第 16640 条： ='TU-71]?2P>++\\L+'T>\n",
      "M-71]-34L'AXL+\"PL-2R_+\"R_QS7'+,?'QRR_:3\n",
      "第 18720 条： 'I:6E\n",
      "MI4='I:6E\"PL+\"V9FQ,0Q,8>'AX>'AX>'AX>'AX>'AX>'AX>'AX>'A\n"
     ]
    }
   ],
   "source": [
    "for temp in ax_list:\n",
    "    a1 = temp[0]\n",
    "    b1 = temp[1]\n",
    "    print('第',a1,'条：',news_data.data[a1][b1-30:b1+30])"
   ]
  },
  {
   "cell_type": "markdown",
   "metadata": {},
   "source": [
    "通过观察，我们发现，'AX会连续大量出现，但是没有实际的意义。在下面处理时，将其进行去除。\n",
    "\n",
    "去掉符号，数字等；去掉剩余的单个字母；去掉'AX"
   ]
  },
  {
   "cell_type": "code",
   "execution_count": 19,
   "metadata": {},
   "outputs": [],
   "source": [
    "import re\n",
    "def data_clean(text):\n",
    "    text = text.replace('\\n',\" \") #删掉空行 \n",
    "    text = text.replace('\\'AX',\" \") #删掉'AX \n",
    "    text = re.sub(r\"-\", \" \", text) #把 \"-\" 的单词分为两个\n",
    "    text = re.sub(r\"\\d+/\\d+/\\d+\", \"\", text) #删掉日期  \n",
    "    text = re.sub(r\"[0-2]?[0-9]:[0-6][0-9]\", \"\", text) #删掉时间  \n",
    "    text = re.sub(r\"[\\.\\w]+@[\\.\\w]+\", \"\", text) #删掉邮箱地址  \n",
    "    text = re.sub(r\"http[s]?://(?:[a-zA-Z]|[0-9]|[$-_@.&+]|[!*,]|(?:%[0-9a-fA-F][0-9a-fA-F]))+\", \"\", text) #删掉网址  \n",
    "    pure_text = ''  \n",
    "    # 删掉特殊字符（数字）等等\n",
    "    for letter in text:  \n",
    "        # 只留下字母和空格 \n",
    "        if letter.isalpha() or letter==' ':  \n",
    "            pure_text += letter\n",
    "        else:\n",
    "            pure_text += ' '\n",
    "    #去掉单个字母\n",
    "    text = ' '.join(word for word in pure_text.split() if len(word)>1) \n",
    "    return text\n",
    "\n",
    "news_data_clean = [data_clean(temp) for temp in news_data.data]\n",
    "\n",
    "news_tokens = [word_tokenize(temp) for temp in news_data_clean]"
   ]
  },
  {
   "cell_type": "code",
   "execution_count": 20,
   "metadata": {},
   "outputs": [
    {
     "name": "stdout",
     "output_type": "stream",
     "text": [
      "135921\n"
     ]
    }
   ],
   "source": [
    "news_dict_cnt = get_dict_cnt(news_tokens)\n",
    "print(len(news_dict_cnt))"
   ]
  },
  {
   "cell_type": "code",
   "execution_count": 21,
   "metadata": {},
   "outputs": [
    {
     "data": {
      "image/png": "[encoded data removed]",
      "text/plain": [
       "<matplotlib.figure.Figure at 0x1a2a0caeb8>"
      ]
     },
     "metadata": {},
     "output_type": "display_data"
    }
   ],
   "source": [
    "bar_of_news_dict(news_dict_cnt)"
   ]
  },
  {
   "cell_type": "markdown",
   "metadata": {},
   "source": [
    "词典长度已经明显缩小，频率最高的前20个词汇也变为非字符的了，并且'AX也被去掉了。\n",
    "\n",
    "单词转小写\n",
    "\n"
   ]
  },
  {
   "cell_type": "code",
   "execution_count": 22,
   "metadata": {},
   "outputs": [
    {
     "name": "stdout",
     "output_type": "stream",
     "text": [
      "106755\n"
     ]
    }
   ],
   "source": [
    "news_tokens = [word_tokenize(temp.lower()) for temp in news_data_clean]\n",
    "news_dict_cnt = get_dict_cnt(news_tokens)\n",
    "print(len(news_dict_cnt))"
   ]
  },
  {
   "cell_type": "markdown",
   "metadata": {},
   "source": [
    "去掉停用词，使用nltk停用词语料库"
   ]
  },
  {
   "cell_type": "code",
   "execution_count": 23,
   "metadata": {},
   "outputs": [
    {
     "name": "stdout",
     "output_type": "stream",
     "text": [
      "['i', 'me', 'my', 'myself', 'we', 'our', 'ours', 'ourselves', 'you', \"you're\", \"you've\", \"you'll\", \"you'd\", 'your', 'yours', 'yourself', 'yourselves', 'he', 'him', 'his', 'himself', 'she', \"she's\", 'her', 'hers', 'herself', 'it', \"it's\", 'its', 'itself', 'they', 'them', 'their', 'theirs', 'themselves', 'what', 'which', 'who', 'whom', 'this', 'that', \"that'll\", 'these', 'those', 'am', 'is', 'are', 'was', 'were', 'be', 'been', 'being', 'have', 'has', 'had', 'having', 'do', 'does', 'did', 'doing', 'a', 'an', 'the', 'and', 'but', 'if', 'or', 'because', 'as', 'until', 'while', 'of', 'at', 'by', 'for', 'with', 'about', 'against', 'between', 'into', 'through', 'during', 'before', 'after', 'above', 'below', 'to', 'from', 'up', 'down', 'in', 'out', 'on', 'off', 'over', 'under', 'again', 'further', 'then', 'once', 'here', 'there', 'when', 'where', 'why', 'how', 'all', 'any', 'both', 'each', 'few', 'more', 'most', 'other', 'some', 'such', 'no', 'nor', 'not', 'only', 'own', 'same', 'so', 'than', 'too', 'very', 's', 't', 'can', 'will', 'just', 'don', \"don't\", 'should', \"should've\", 'now', 'd', 'll', 'm', 'o', 're', 've', 'y', 'ain', 'aren', \"aren't\", 'couldn', \"couldn't\", 'didn', \"didn't\", 'doesn', \"doesn't\", 'hadn', \"hadn't\", 'hasn', \"hasn't\", 'haven', \"haven't\", 'isn', \"isn't\", 'ma', 'mightn', \"mightn't\", 'mustn', \"mustn't\", 'needn', \"needn't\", 'shan', \"shan't\", 'shouldn', \"shouldn't\", 'wasn', \"wasn't\", 'weren', \"weren't\", 'won', \"won't\", 'wouldn', \"wouldn't\"]\n"
     ]
    }
   ],
   "source": [
    "from nltk.corpus import stopwords\n",
    "stopwords_list = stopwords.words('english')\n",
    "print(stopwords_list)"
   ]
  },
  {
   "cell_type": "code",
   "execution_count": 24,
   "metadata": {},
   "outputs": [
    {
     "name": "stdout",
     "output_type": "stream",
     "text": [
      "106611\n"
     ]
    }
   ],
   "source": [
    "news_tokens_stopwords = [[temp for temp in temp_list if stopwords_list.count(temp) == 0] for temp_list in news_tokens]\n",
    "news_dict_cnt = get_dict_cnt(news_tokens_stopwords)\n",
    "print(len(news_dict_cnt))"
   ]
  },
  {
   "cell_type": "code",
   "execution_count": 25,
   "metadata": {},
   "outputs": [
    {
     "data": {
      "image/png": "[encoded data removed]",
      "text/plain": [
       "<matplotlib.figure.Figure at 0x1a2b358c18>"
      ]
     },
     "metadata": {},
     "output_type": "display_data"
    }
   ],
   "source": [
    "bar_of_news_dict(news_dict_cnt)"
   ]
  },
  {
   "cell_type": "markdown",
   "metadata": {},
   "source": [
    "可以看出：出现频率高的介词（“over”，“under”，“above”），还有限定词（“the”、“a”、“an”、“that”、和“those”）等已经被去掉。这些词汇没有实际意义。\n",
    "\n",
    "词根的统一"
   ]
  },
  {
   "cell_type": "code",
   "execution_count": 26,
   "metadata": {},
   "outputs": [
    {
     "name": "stdout",
     "output_type": "stream",
     "text": [
      "['the', 'lying', 'have', 'woman', 'shoe', 'at']\n"
     ]
    }
   ],
   "source": [
    "from nltk.stem.wordnet import WordNetLemmatizer\n",
    "from nltk import pos_tag\n",
    "lemmatizer = WordNetLemmatizer()\n",
    "# 词根还原\n",
    "def lemmatize(token, tag):\n",
    "    if tag[0].lower() in ['n','v']:  \n",
    "        return lemmatizer.lemmatize(token, tag[0].lower())  \n",
    "    return token\n",
    "print([lemmatize(token, tag) for token, tag in pos_tag(['the', 'lying','had','women','shoes', 'at'])])"
   ]
  },
  {
   "cell_type": "code",
   "execution_count": 27,
   "metadata": {},
   "outputs": [
    {
     "name": "stdout",
     "output_type": "stream",
     "text": [
      "98181\n"
     ]
    }
   ],
   "source": [
    "news_tokens_tagged_corpus = [pos_tag(temp) for temp in news_tokens_stopwords]\n",
    "news_tokens_lemmatize = [[lemmatize(token, tag) for token, tag in temp] for temp in news_tokens_tagged_corpus]\n",
    "\n",
    "news_dict_cnt = get_dict_cnt(news_tokens_lemmatize)\n",
    "print(len(news_dict_cnt))"
   ]
  },
  {
   "cell_type": "code",
   "execution_count": 28,
   "metadata": {},
   "outputs": [
    {
     "data": {
      "image/png": "[encoded data removed]",
      "text/plain": [
       "<matplotlib.figure.Figure at 0x106a89400>"
      ]
     },
     "metadata": {},
     "output_type": "display_data"
    }
   ],
   "source": [
    "bar_of_news_dict(news_dict_cnt)"
   ]
  },
  {
   "cell_type": "markdown",
   "metadata": {},
   "source": [
    "分析比较预处理过程，词典长度变化："
   ]
  },
  {
   "cell_type": "markdown",
   "metadata": {},
   "source": [
    "| 处理步骤 |  开始  | 数据清理 | 转小写 | 去掉停用词 | 词根统一 |\n",
    "|:--------:|:------:|:--------:|:------:|:----------:|:----------:|\n",
    "| 词典长度 | 285782 |  135921  |  106755 |    106611   |    98181   |"
   ]
  },
  {
   "cell_type": "markdown",
   "metadata": {},
   "source": [
    "可以看出，经过预处理，词典长度逐渐降低了。有效的达到了降维的目的。"
   ]
  },
  {
   "cell_type": "markdown",
   "metadata": {},
   "source": [
    "# 模型分析"
   ]
  },
  {
   "cell_type": "code",
   "execution_count": 29,
   "metadata": {},
   "outputs": [
    {
     "name": "stdout",
     "output_type": "stream",
     "text": [
      "Training set has 12060 samples.\n",
      "Validation set has 3016 samples.\n",
      "Testing set has 3770 samples.\n"
     ]
    }
   ],
   "source": [
    "from sklearn.model_selection import train_test_split\n",
    "X_train, X_test, y_train, y_test = train_test_split(news_tokens_lemmatize, news_data.target, test_size=0.2, random_state=0)\n",
    "X_train, X_val, y_train, y_val = train_test_split(X_train, y_train, test_size=0.2, random_state=0)\n",
    "\n",
    "# 显示切分的结果\n",
    "print(\"Training set has {} samples.\".format(len(X_train)))\n",
    "print(\"Validation set has {} samples.\".format(len(X_val)))\n",
    "print(\"Testing set has {} samples.\".format(len(X_test)))"
   ]
  },
  {
   "cell_type": "markdown",
   "metadata": {},
   "source": [
    "数据划分，将数据集划分为80%的训练数据，20%的测试数据；再将训练数据划分为80%的训练数据和20%的验证数据。最终划分结果为12060条训练数据，3016条验证数据，3770条测试数据。"
   ]
  },
  {
   "cell_type": "markdown",
   "metadata": {},
   "source": [
    "保存预处理的数据"
   ]
  },
  {
   "cell_type": "code",
   "execution_count": 30,
   "metadata": {},
   "outputs": [],
   "source": [
    "X_train_content = [' '.join(temp_list) for temp_list in X_train]\n",
    "X_val_content = [' '.join(temp_list) for temp_list in X_val]\n",
    "X_test_content = [' '.join(temp_list) for temp_list in X_test]\n",
    "\n",
    "np.save(\"X_train_content.npy\", X_train_content)\n",
    "np.save(\"X_val_content.npy\", X_val_content)\n",
    "np.save(\"X_test_content.npy\", X_test_content)\n",
    "np.save(\"y_train.npy\", y_train)\n",
    "np.save(\"y_val.npy\", y_val)\n",
    "np.save(\"y_test.npy\", y_test)"
   ]
  },
  {
   "cell_type": "markdown",
   "metadata": {},
   "source": [
    "### 使用词袋子模型进行预测"
   ]
  },
  {
   "cell_type": "markdown",
   "metadata": {},
   "source": [
    "加载预处理的数据"
   ]
  },
  {
   "cell_type": "code",
   "execution_count": 31,
   "metadata": {},
   "outputs": [],
   "source": [
    "import numpy as np\n",
    "X_train_content = np.load(\"X_train_content.npy\")\n",
    "X_val_content = np.load(\"X_val_content.npy\")\n",
    "X_test_content = np.load(\"X_test_content.npy\")\n",
    "\n",
    "y_train = np.load(\"y_train.npy\")\n",
    "y_val = np.load(\"y_val.npy\")\n",
    "y_test = np.load(\"y_test.npy\")\n"
   ]
  },
  {
   "cell_type": "markdown",
   "metadata": {},
   "source": [
    "使用CountVectorizer进行文本特征提取"
   ]
  },
  {
   "cell_type": "code",
   "execution_count": 32,
   "metadata": {},
   "outputs": [
    {
     "name": "stdout",
     "output_type": "stream",
     "text": [
      "train shape: (12060, 79745)\n",
      "val shape: (3016, 79745)\n",
      "vocabulary length: 79745\n"
     ]
    }
   ],
   "source": [
    "from sklearn.feature_extraction.text import CountVectorizer\n",
    "count_train = CountVectorizer(analyzer='word')\n",
    "X_train_counts = count_train.fit_transform(X_train_content)\n",
    "print('train shape:', X_train_counts.shape)\n",
    "X_val_counts = count_train.transform(X_val_content)\n",
    "print('val shape:', X_val_counts.shape)\n",
    "print('vocabulary length:', len(count_train.vocabulary_))\n"
   ]
  },
  {
   "cell_type": "markdown",
   "metadata": {},
   "source": [
    "模型评估"
   ]
  },
  {
   "cell_type": "code",
   "execution_count": 33,
   "metadata": {},
   "outputs": [],
   "source": [
    "from sklearn.metrics import fbeta_score, accuracy_score, log_loss\n",
    "from time import time\n",
    "from sklearn.externals import joblib\n",
    "# 通过init_flag控制模型是新模型还是已经持久化保存后的本地模型\n",
    "def sklearn_train_predict(learner, X_train, y_train, X_val, y_val, clf_name, init_flag):\n",
    "    if init_flag: # 需要训练, 训练后保存模型\n",
    "        start = time()\n",
    "        learner.fit(X_train, y_train)\n",
    "        end = time()\n",
    "        print('train_time:', round(end - start, 3), 's')\n",
    "        joblib.dump(learner, clf_name)\n",
    "    else: #不需要训练, 直接加载已有模型\n",
    "        learner = joblib.load(clf_name)\n",
    "    \n",
    "    # 得到在验证集上的预测值\n",
    "    start = time()\n",
    "    predictions_val = learner.predict(X_val)\n",
    "    predict_proba_val = learner.predict_proba(X_val)\n",
    "    end = time()\n",
    "    \n",
    "    # 计算预测用时\n",
    "    print('pred_time:', round(end - start, 3), 's')\n",
    "    \n",
    "    # 计算在验证集上的准确率\n",
    "    acc_val = accuracy_score(y_val, predictions_val)\n",
    "    print('acc_val:', acc_val)\n",
    "    \n",
    "    # 计算在验证集上的log_loss\n",
    "    log_loss_val = log_loss(y_val, predict_proba_val)\n",
    "    print('log_loss_val:', log_loss_val)"
   ]
  },
  {
   "cell_type": "code",
   "execution_count": 34,
   "metadata": {},
   "outputs": [
    {
     "name": "stdout",
     "output_type": "stream",
     "text": [
      "DecisionTreeClassifier:\n",
      "train_time: 13.863 s\n",
      "pred_time: 0.01 s\n",
      "acc_val: 0.636936339523\n",
      "log_loss_val: 12.5397745863\n",
      "SVC:\n",
      "train_time: 304.454 s\n",
      "pred_time: 29.496 s\n",
      "acc_val: 0.8425066313\n",
      "log_loss_val: 0.594956239178\n",
      "MultinomialNB:\n",
      "train_time: 0.094 s\n",
      "pred_time: 0.025 s\n",
      "acc_val: 0.867705570292\n",
      "log_loss_val: 1.95687707298\n"
     ]
    }
   ],
   "source": [
    "# 从sklearn中导入三个分类模型\n",
    "from sklearn.tree import DecisionTreeClassifier\n",
    "from sklearn.svm import SVC\n",
    "from sklearn.naive_bayes import MultinomialNB\n",
    "\n",
    "# 初始化三个模型\n",
    "clf_A = DecisionTreeClassifier()\n",
    "clf_B = SVC(kernel='linear', probability=True)\n",
    "clf_C = MultinomialNB()\n",
    "\n",
    "# 进行训练\n",
    "init_flag = True\n",
    "#进行训练评估\n",
    "print('DecisionTreeClassifier:')\n",
    "sklearn_train_predict(clf_A,X_train_counts,y_train,X_val_counts,y_val, 'cv_dtc.pkl', init_flag)\n",
    "print('SVC:')\n",
    "sklearn_train_predict(clf_B,X_train_counts,y_train,X_val_counts,y_val, 'cv_svc.pkl', init_flag)\n",
    "print('MultinomialNB:')\n",
    "sklearn_train_predict(clf_C,X_train_counts,y_train,X_val_counts,y_val, 'cv_mnb.pkl', init_flag)\n"
   ]
  },
  {
   "cell_type": "markdown",
   "metadata": {},
   "source": [
    "使用TfidfVectorizer进行文本特征提取"
   ]
  },
  {
   "cell_type": "code",
   "execution_count": 35,
   "metadata": {},
   "outputs": [
    {
     "name": "stdout",
     "output_type": "stream",
     "text": [
      "train shape: (12060, 79745)\n",
      "val shape: (3016, 79745)\n",
      "vocabulary length 79745\n"
     ]
    }
   ],
   "source": [
    "from sklearn.feature_extraction.text import TfidfVectorizer\n",
    "tfief_train = TfidfVectorizer(analyzer='word')\n",
    "X_train_tfief = tfief_train.fit_transform(X_train_content)\n",
    "print('train shape:', X_train_tfief.shape)\n",
    "X_val_tfief = tfief_train.transform(X_val_content)\n",
    "print('val shape:', X_val_tfief.shape)\n",
    "print('vocabulary length', len(tfief_train.vocabulary_))\n"
   ]
  },
  {
   "cell_type": "code",
   "execution_count": 36,
   "metadata": {},
   "outputs": [
    {
     "name": "stdout",
     "output_type": "stream",
     "text": [
      "DecisionTreeClassifier:\n",
      "train_time: 16.868 s\n",
      "pred_time: 0.013 s\n",
      "acc_val: 0.618037135279\n",
      "log_loss_val: 13.1925299758\n",
      "SVC:\n",
      "train_time: 550.184 s\n",
      "pred_time: 37.698 s\n",
      "acc_val: 0.904177718833\n",
      "log_loss_val: 0.323205385295\n",
      "MultinomialNB:\n",
      "train_time: 0.089 s\n",
      "pred_time: 0.026 s\n",
      "acc_val: 0.851458885942\n",
      "log_loss_val: 0.978140322624\n"
     ]
    }
   ],
   "source": [
    "# 初始化三个模型\n",
    "clf_A = DecisionTreeClassifier()\n",
    "clf_B = SVC(kernel = 'linear', probability=True)\n",
    "clf_C = MultinomialNB()\n",
    "\n",
    "inif_flag = True\n",
    "\n",
    "# 进行训练评估\n",
    "print('DecisionTreeClassifier:')\n",
    "sklearn_train_predict(clf_A, X_train_tfief, y_train, X_val_tfief, y_val, 'tfid_dtc.pkl', init_flag)\n",
    "print('SVC:')\n",
    "sklearn_train_predict(clf_B, X_train_tfief, y_train, X_val_tfief, y_val, 'tfid_svc.pkl', init_flag)\n",
    "print('MultinomialNB:')\n",
    "sklearn_train_predict(clf_C, X_train_tfief, y_train, X_val_tfief, y_val, 'tfid_mnb.pkl',init_flag)"
   ]
  },
  {
   "cell_type": "markdown",
   "metadata": {},
   "source": [
    "文本特征提取对比"
   ]
  },
  {
   "cell_type": "markdown",
   "metadata": {},
   "source": [
    "| accuracy |  DecisionTreeClassifier  | SVC | MultinomialNB |\n",
    "|:------------:|:------------------------:|:---:|:-------------:|\n",
    "| CountVectorizer | 0.64 |  0.84  |  0.86 |\n",
    "| TfidfVectorizer | 0.61 |  0.90  |  0.86 |"
   ]
  },
  {
   "cell_type": "markdown",
   "metadata": {},
   "source": [
    "| log_loss |  DecisionTreeClassifier  | SVC | MultinomialNB |\n",
    "|:------------:|:------------------------:|:---:|:-------------:|\n",
    "| CountVectorizer | 12.57 |  0.60  |  1.95 |\n",
    "| TfidfVectorizer | 13.15 |  0.32  |  0.97 |"
   ]
  },
  {
   "cell_type": "markdown",
   "metadata": {},
   "source": [
    "通过对比分析：模型在决策树分类器上表现不佳；在支持向量机分类器和朴素贝叶斯分类器上表现不错。总体来说，使用TfidfVectorizer进行文本特征提取，准确率有所提升，log loss有所下降。并且在SVC上表现很不错，准确率达到了0.90，而log loss降到了0.32，表现不错。"
   ]
  },
  {
   "cell_type": "markdown",
   "metadata": {},
   "source": [
    "模型调优"
   ]
  },
  {
   "cell_type": "code",
   "execution_count": 37,
   "metadata": {},
   "outputs": [
    {
     "name": "stdout",
     "output_type": "stream",
     "text": [
      "grid train_time: 10.507 s\n",
      "Unoptimized model\n",
      "------\n",
      "Accuracy score on validation data: 0.8515\n",
      "Log_loss_val on the validation data: 0.3282\n",
      "\n",
      "Optimized Model\n",
      "------\n",
      "Final accuracy score on the validation data: 0.9105\n",
      "Final log_loss_val on the validation data: 0.3282\n",
      "Final best_params_: {'alpha': 0.01, 'fit_prior': False}\n"
     ]
    }
   ],
   "source": [
    "from sklearn.model_selection import GridSearchCV\n",
    "from sklearn.metrics import make_scorer\n",
    "# 初始化分类器\n",
    "clf = MultinomialNB() \n",
    "\n",
    "# 创建进行调节的参数列表\n",
    "parameters = {'alpha':(0.0001, 0.001, 0.01, 0.1, 1.0, 10.0, 100.0, 1000.0),'fit_prior':(True,False)}\n",
    "#parameters = {'alpha':(0.01,0.005,0.008,0.009,0.0095,0.015,0.02,0.03,0.05),'fit_prior':(True,False)}\n",
    "\n",
    "# 创建一个accuracy_score打分对象\n",
    "scorer = make_scorer(score_func=log_loss,greater_is_better=False,needs_proba=True)\n",
    "\n",
    "#在分类器上使用网格搜索，使用'scorer'作为评价函数\n",
    "grid_obj = GridSearchCV(estimator=clf,param_grid=parameters,scoring=scorer,n_jobs=-2,cv=10)\n",
    "\n",
    "init_flag = True # 模型是否需要训练\n",
    "clf_name = 'tfid_MultinomialNB_best.pkl'\n",
    "if init_flag:#需要训练，训练后保存模型\n",
    "    start = time() # 获得程序开始时间\n",
    "    # 用训练数据拟合网格搜索对象并找到最佳参数\n",
    "    grid_obj.fit(X_train_tfief, y_train)\n",
    "    end = time() # 获得程序结束时间\n",
    "    # 计算训练时间\n",
    "    print('grid train_time:',round(end - start, 3),\"s\")\n",
    "    joblib.dump(grid_obj, clf_name)\n",
    "else:#不需要训练，直接加载已有模型\n",
    "    grid_obj = joblib.load(clf_name)\n",
    "\n",
    "# 得到estimator\n",
    "best_clf = grid_obj.best_estimator_\n",
    "\n",
    "# 使用没有调优的模型做预测\n",
    "clf = joblib.load('tfid_mnb.pkl')#'tfid_svc.pkl' 'tfid_mnb.pkl'\n",
    "predictions = clf.predict(X_val_tfief)\n",
    "predict_proba_val = best_clf.predict_proba(X_val_tfief)\n",
    "best_predictions = best_clf.predict(X_val_tfief)\n",
    "best_proba_val = best_clf.predict_proba(X_val_tfief)\n",
    "\n",
    "# 汇报调参前和调参后的分数\n",
    "print(\"Unoptimized model\\n------\")\n",
    "print(\"Accuracy score on validation data: {:.4f}\".format(accuracy_score(y_val,predictions)))\n",
    "print('Log_loss_val on the validation data: {:.4f}'.format(log_loss(y_val,predict_proba_val)))\n",
    "print(\"\\nOptimized Model\\n------\")\n",
    "print(\"Final accuracy score on the validation data: {:.4f}\".format(accuracy_score(y_val,best_predictions)))\n",
    "# 计算在验证上的log_loss\n",
    "print('Final log_loss_val on the validation data: {:.4f}'.format(log_loss(y_val,best_proba_val)))\n",
    "print('Final best_params_:',grid_obj.best_params_)"
   ]
  },
  {
   "cell_type": "markdown",
   "metadata": {},
   "source": [
    "使用TfidfVectorizer后，对比模型调优结果"
   ]
  },
  {
   "cell_type": "markdown",
   "metadata": {},
   "source": [
    "| accuracy | MultinomialNB |\n",
    "|:---------------:|:-------------:|\n",
    "| 调优前 | 0.8515 |\n",
    "| 调优后 |   0.9105 |"
   ]
  },
  {
   "cell_type": "markdown",
   "metadata": {},
   "source": [
    "| log loss | MultinomialNB |\n",
    "|:---------------:|:-------------:|\n",
    "| 调优前 | 0.3282 |\n",
    "| 调优后 |   0.3282 |"
   ]
  },
  {
   "cell_type": "markdown",
   "metadata": {},
   "source": [
    "通过对比，调优前后log loss损失没有变化，MultinomialNB有明显提升，最终调优后的MultinomialNB达到了最高的准确率0.9105。因此，选择原来的优后的MultinomialNB模型进行测试集预测。"
   ]
  },
  {
   "cell_type": "markdown",
   "metadata": {},
   "source": [
    "使用原SVC模型对测试集进行预测"
   ]
  },
  {
   "cell_type": "code",
   "execution_count": 38,
   "metadata": {},
   "outputs": [
    {
     "name": "stdout",
     "output_type": "stream",
     "text": [
      "val shape: (3770, 79745)\n"
     ]
    }
   ],
   "source": [
    "X_test_tfief = tfief_train.transform(X_test_content)\n",
    "print('val shape:',X_test_tfief.shape)"
   ]
  },
  {
   "cell_type": "code",
   "execution_count": 39,
   "metadata": {},
   "outputs": [
    {
     "name": "stdout",
     "output_type": "stream",
     "text": [
      "Accuracy score on test data: 0.9040\n",
      "Log_loss_val on the test data: 0.3242\n"
     ]
    }
   ],
   "source": [
    "clf = joblib.load('tfid_MultinomialNB_best.pkl')#tfid_MultinomialNB_best.pkl tfid_svc.pkl\n",
    "test_predictions = clf.predict(X_test_tfief)\n",
    "test_proba_val = clf.predict_proba(X_test_tfief)\n",
    "print(\"Accuracy score on test data: {:.4f}\".format(accuracy_score(y_test,test_predictions)))\n",
    "print('Log_loss_val on the test data: {:.4f}'.format(log_loss(y_test,test_proba_val)))"
   ]
  },
  {
   "cell_type": "markdown",
   "metadata": {},
   "source": [
    "可以看到，测试数据集上，准确率达到0.9040，Log_loss为0.3242，效果还是非常不错。"
   ]
  },
  {
   "cell_type": "markdown",
   "metadata": {},
   "source": [
    "| 模型预测 | 调优的MultinomialNB | 基准模型 |\n",
    "|:-------:|:------------------:|:-------:|\n",
    "| 准确率 | 90.40% | 90% |"
   ]
  },
  {
   "cell_type": "markdown",
   "metadata": {},
   "source": [
    "通过对比，可以看出，我们调优后的MultinomialNB模型，对测试集的预测已经达到并超过了我们的基准模型的目标。下面进行词向量模型的研究。"
   ]
  },
  {
   "cell_type": "markdown",
   "metadata": {},
   "source": [
    "### 词向量模型"
   ]
  },
  {
   "cell_type": "markdown",
   "metadata": {},
   "source": [
    "加载预处理的数据"
   ]
  },
  {
   "cell_type": "code",
   "execution_count": 40,
   "metadata": {},
   "outputs": [],
   "source": [
    "import numpy as np\n",
    "X_train_content = np.load(\"X_train_content.npy\")\n",
    "X_val_content = np.load(\"X_val_content.npy\")\n",
    "X_test_content = np.load(\"X_test_content.npy\")\n",
    "\n",
    "y_train = np.load(\"y_train.npy\")\n",
    "y_val = np.load(\"y_val.npy\")\n",
    "y_test = np.load(\"y_test.npy\")"
   ]
  },
  {
   "cell_type": "markdown",
   "metadata": {},
   "source": [
    "使用Word2Vec进行文本特征提取"
   ]
  },
  {
   "cell_type": "code",
   "execution_count": 41,
   "metadata": {},
   "outputs": [],
   "source": [
    "# 引入 word2vec\n",
    "from gensim.models import word2vec\n",
    "EMBEDDING_DIM = 200 # 词向量空间维度\n",
    "news_fname = '20news.model'\n",
    "mode_init = False"
   ]
  },
  {
   "cell_type": "code",
   "execution_count": 42,
   "metadata": {},
   "outputs": [],
   "source": [
    "if mode_init:\n",
    "    sentences = []\n",
    "    sentences.extend([temp.split(' ') for temp in X_train_content])\n",
    "    sentences.extend([temp.split(' ') for temp in X_val_content])\n",
    "    sentences.extend([temp.split(' ') for temp in X_test_content])\n",
    "    news_model = word2vec.Word2Vec(sentences, size=EMBEDDING_DIM, window=5)  \n",
    "    news_model.save(news_fname)\n",
    "else:\n",
    "    news_model = word2vec.Word2Vec.load(news_fname)"
   ]
  },
  {
   "cell_type": "markdown",
   "metadata": {},
   "source": [
    "简单评测"
   ]
  },
  {
   "cell_type": "code",
   "execution_count": 43,
   "metadata": {},
   "outputs": [
    {
     "name": "stdout",
     "output_type": "stream",
     "text": [
      "[('rap', 0.7184690237045288)]\n",
      "cereal\n",
      "0.606071176766\n",
      "[('wickedness', 0.7127742767333984), ('holy', 0.7005019783973694), ('spirit', 0.6751559972763062), ('son', 0.6727839112281799), ('mother', 0.658781886100769), ('father', 0.6582998037338257), ('wast', 0.6475853323936462), ('miracle', 0.6460392475128174), ('straw', 0.6357367634773254), ('darkness', 0.6333180665969849)]\n"
     ]
    }
   ],
   "source": [
    "def simple_test_word2vec(model):\n",
    "    print(model.wv.most_similar(positive=['woman', 'king'], negative=['man'], topn=1))\n",
    "    print(model.wv.doesnt_match(\"breakfast cereal dinner lunch\".split()))\n",
    "    print(model.wv.similarity('woman', 'man'))\n",
    "    print(model.wv.most_similar(['man']))\n",
    "simple_test_word2vec(news_model)"
   ]
  },
  {
   "cell_type": "markdown",
   "metadata": {},
   "source": [
    "使用text8语料库"
   ]
  },
  {
   "cell_type": "code",
   "execution_count": 44,
   "metadata": {},
   "outputs": [
    {
     "name": "stdout",
     "output_type": "stream",
     "text": [
      "[('queen', 0.6550394296646118)]\n",
      "cereal\n",
      "0.706078420113\n",
      "[('woman', 0.7060784697532654), ('girl', 0.5963572263717651), ('creature', 0.5786644816398621), ('person', 0.5359782576560974), ('thief', 0.5304279327392578), ('stranger', 0.5148955583572388), ('boy', 0.5129139423370361), ('gentleman', 0.5100332498550415), ('god', 0.502811074256897), ('mortal', 0.500410795211792)]\n"
     ]
    }
   ],
   "source": [
    "text8_fname = 'text8.model'\n",
    "mode_init = False\n",
    "\n",
    "if mode_init:\n",
    "    sentences = word2vec.Text8Corpus('text8')\n",
    "    text8_model = word2vec.Word2Vec(sentences, size=EMBEDDING_DIM, window=5)    \n",
    "    text8_model.save(text8_fname)\n",
    "else:\n",
    "    text8_model = word2vec.Word2Vec.load(text8_fname)\n",
    "\n",
    "simple_test_word2vec(text8_model)"
   ]
  },
  {
   "cell_type": "markdown",
   "metadata": {},
   "source": [
    "通过观察，两个语料库得到的结果有些差别，但是总体差距不大。因此，这里选择使用新闻数据集得到的Word2Vec词向量，这样更贴近需要训练和预测的数据内容"
   ]
  },
  {
   "cell_type": "markdown",
   "metadata": {},
   "source": [
    "提取特征:单词与序号之间的对应关系靠单词的索引表 word_index 来记录;标签处理成 one-hot 向量，用 keras 的 to_categorical 实现"
   ]
  },
  {
   "cell_type": "code",
   "execution_count": 45,
   "metadata": {},
   "outputs": [
    {
     "name": "stderr",
     "output_type": "stream",
     "text": [
      "Using TensorFlow backend.\n"
     ]
    },
    {
     "name": "stdout",
     "output_type": "stream",
     "text": [
      "Found 98181 unique all texts tokens.\n",
      "Shape of train label tensor: (12060, 20)\n",
      "Shape of val label tensor: (3016, 20)\n",
      "Shape of test label tensor: (3770, 20)\n"
     ]
    }
   ],
   "source": [
    "from keras.preprocessing.text import Tokenizer\n",
    "from keras.utils import to_categorical\n",
    "import numpy as np\n",
    "\n",
    "all_texts = []\n",
    "all_texts.extend(X_train_content)\n",
    "all_texts.extend(X_val_content)\n",
    "all_texts.extend(X_test_content)\n",
    "\n",
    "all_texts_tokenizer = Tokenizer()\n",
    "all_texts_tokenizer.fit_on_texts(all_texts)\n",
    "all_texts_word_index = all_texts_tokenizer.word_index\n",
    "\n",
    "print('Found %s unique all texts tokens.' % len(all_texts_word_index))\n",
    "\n",
    "all_labels = []\n",
    "all_labels.extend(y_train)\n",
    "all_labels.extend(y_val)\n",
    "all_labels.extend(y_test)\n",
    "\n",
    "all_labels = to_categorical(np.asarray(all_labels))\n",
    "\n",
    "y_train_labels = to_categorical(np.asarray(y_train))\n",
    "print('Shape of train label tensor:', y_train_labels.shape)\n",
    "\n",
    "y_val_labels = to_categorical(np.asarray(y_val))\n",
    "print('Shape of val label tensor:', y_val_labels.shape)\n",
    "\n",
    "y_test_labels = to_categorical(np.asarray(y_test))\n",
    "print('Shape of test label tensor:', y_test_labels.shape)"
   ]
  },
  {
   "cell_type": "code",
   "execution_count": 46,
   "metadata": {},
   "outputs": [
    {
     "name": "stdout",
     "output_type": "stream",
     "text": [
      "Shape of train tensor: (12060, 500)\n",
      "Shape of val tensor: (3016, 500)\n",
      "Shape of test tensor: (3770, 500)\n"
     ]
    }
   ],
   "source": [
    "MAX_SEQUENCE_LENGTH = 500 # 每条新闻最大长度\n",
    "\n",
    "from keras.preprocessing.sequence import pad_sequences\n",
    "X_train_sequences = pad_sequences(all_texts_tokenizer.texts_to_sequences(X_train_content), maxlen=MAX_SEQUENCE_LENGTH)\n",
    "X_val_sequences = pad_sequences(all_texts_tokenizer.texts_to_sequences(X_val_content), maxlen=MAX_SEQUENCE_LENGTH)\n",
    "X_test_sequences = pad_sequences(all_texts_tokenizer.texts_to_sequences(X_test_content), maxlen=MAX_SEQUENCE_LENGTH)\n",
    "\n",
    "print('Shape of train tensor:', X_train_sequences.shape)\n",
    "print('Shape of val tensor:', X_val_sequences.shape)\n",
    "print('Shape of test tensor:', X_test_sequences.shape)"
   ]
  },
  {
   "cell_type": "markdown",
   "metadata": {},
   "source": [
    "构建嵌入层Embedding"
   ]
  },
  {
   "cell_type": "code",
   "execution_count": 47,
   "metadata": {},
   "outputs": [],
   "source": [
    "from keras.utils import plot_model\n",
    "from keras.layers import Embedding\n",
    "import gensim\n",
    "\n",
    "from keras.layers import Dense, Input, Flatten, Dropout, Activation, LSTM\n",
    "from keras.layers import Conv1D, MaxPooling1D, Embedding, concatenate\n",
    "from keras.models import Sequential, Model\n",
    "\n",
    "w2v_model = news_model\n",
    "embedding_matrix = np.zeros((len(all_texts_word_index) + 1, EMBEDDING_DIM))\n",
    "\n",
    "for word, i in all_texts_word_index.items():\n",
    "    if word in w2v_model.wv:\n",
    "        embedding_matrix[i] = np.asarray(w2v_model.wv[word],dtype='float32')\n",
    "        \n",
    "embedding_layer = Embedding(len(all_texts_word_index) + 1,\n",
    "                            EMBEDDING_DIM,\n",
    "                            weights=[embedding_matrix],\n",
    "                            input_length=MAX_SEQUENCE_LENGTH,\n",
    "                            trainable=False)"
   ]
  },
  {
   "cell_type": "code",
   "execution_count": 49,
   "metadata": {},
   "outputs": [
    {
     "name": "stdout",
     "output_type": "stream",
     "text": [
      "__________________________________________________________________________________________________\n",
      "Layer (type)                    Output Shape         Param #     Connected to                     \n",
      "==================================================================================================\n",
      "main_input (InputLayer)         (None, 500)          0                                            \n",
      "__________________________________________________________________________________________________\n",
      "embedding_1 (Embedding)         (None, 500, 200)     19636400    main_input[0][0]                 \n",
      "__________________________________________________________________________________________________\n",
      "conv1d_8 (Conv1D)               (None, 500, 64)      12864       embedding_1[1][0]                \n",
      "__________________________________________________________________________________________________\n",
      "conv1d_9 (Conv1D)               (None, 500, 64)      12352       conv1d_8[0][0]                   \n",
      "__________________________________________________________________________________________________\n",
      "conv1d_11 (Conv1D)              (None, 500, 64)      12864       embedding_1[1][0]                \n",
      "__________________________________________________________________________________________________\n",
      "max_pooling1d_2 (MaxPooling1D)  (None, 500, 200)     0           embedding_1[1][0]                \n",
      "__________________________________________________________________________________________________\n",
      "conv1d_10 (Conv1D)              (None, 500, 64)      12352       conv1d_9[0][0]                   \n",
      "__________________________________________________________________________________________________\n",
      "conv1d_12 (Conv1D)              (None, 500, 64)      12352       conv1d_11[0][0]                  \n",
      "__________________________________________________________________________________________________\n",
      "conv1d_13 (Conv1D)              (None, 500, 64)      12864       max_pooling1d_2[0][0]            \n",
      "__________________________________________________________________________________________________\n",
      "conv1d_14 (Conv1D)              (None, 500, 64)      12864       embedding_1[1][0]                \n",
      "__________________________________________________________________________________________________\n",
      "flatten_5 (Flatten)             (None, 32000)        0           conv1d_10[0][0]                  \n",
      "__________________________________________________________________________________________________\n",
      "flatten_6 (Flatten)             (None, 32000)        0           conv1d_12[0][0]                  \n",
      "__________________________________________________________________________________________________\n",
      "flatten_7 (Flatten)             (None, 32000)        0           conv1d_13[0][0]                  \n",
      "__________________________________________________________________________________________________\n",
      "flatten_8 (Flatten)             (None, 32000)        0           conv1d_14[0][0]                  \n",
      "__________________________________________________________________________________________________\n",
      "dropout_6 (Dropout)             (None, 32000)        0           flatten_5[0][0]                  \n",
      "__________________________________________________________________________________________________\n",
      "dropout_7 (Dropout)             (None, 32000)        0           flatten_6[0][0]                  \n",
      "__________________________________________________________________________________________________\n",
      "dropout_8 (Dropout)             (None, 32000)        0           flatten_7[0][0]                  \n",
      "__________________________________________________________________________________________________\n",
      "dropout_9 (Dropout)             (None, 32000)        0           flatten_8[0][0]                  \n",
      "__________________________________________________________________________________________________\n",
      "sentence_vector (Concatenate)   (None, 128000)       0           dropout_6[0][0]                  \n",
      "                                                                 dropout_7[0][0]                  \n",
      "                                                                 dropout_8[0][0]                  \n",
      "                                                                 dropout_9[0][0]                  \n",
      "__________________________________________________________________________________________________\n",
      "dropout_10 (Dropout)            (None, 128000)       0           sentence_vector[0][0]            \n",
      "__________________________________________________________________________________________________\n",
      "dense_2 (Dense)                 (None, 20)           2560020     dropout_10[0][0]                 \n",
      "==================================================================================================\n",
      "Total params: 22,284,932\n",
      "Trainable params: 2,648,532\n",
      "Non-trainable params: 19,636,400\n",
      "__________________________________________________________________________________________________\n"
     ]
    }
   ],
   "source": [
    "#定义模型\n",
    "def init_Inception_v2_model(MAX_SEQUENCE_LENGTH, embedding_layer):\n",
    "    main_input = Input(shape=(MAX_SEQUENCE_LENGTH,), dtype='float32' , name='main_input')\n",
    "    x = embedding_layer(main_input)\n",
    "\n",
    "    tower_1 = Conv1D(filters=64, kernel_size=1, padding='same', activation='relu')(x)\n",
    "    tower_1 = Conv1D(filters=64, kernel_size=3, padding='same', activation='relu')(tower_1)\n",
    "    tower_1 = Conv1D(filters=64, kernel_size=3, padding='same', activation='relu')(tower_1)\n",
    "    tower_1 = Flatten()(tower_1)\n",
    "    tower_1 = Dropout(0.2)(tower_1)\n",
    "\n",
    "    tower_2 = Conv1D(filters=64, kernel_size=1, padding='same', activation='relu')(x)\n",
    "    tower_2 = Conv1D(filters=64, kernel_size=3, padding='same', activation='relu')(tower_2)\n",
    "    tower_2 = Flatten()(tower_2)\n",
    "    tower_2 = Dropout(0.2)(tower_2)\n",
    "\n",
    "    tower_3 = MaxPooling1D(pool_size=3, strides=1, padding='same')(x)\n",
    "    tower_3 = Conv1D(filters=64, kernel_size=1, padding='same', activation='relu')(tower_3)\n",
    "    tower_3 = Flatten()(tower_3)\n",
    "    tower_3 = Dropout(0.2)(tower_3)\n",
    "\n",
    "    tower_4 = Conv1D(filters=64, kernel_size=1, padding='same', activation='relu')(x)\n",
    "    tower_4 = Flatten()(tower_4)\n",
    "    tower_4 = Dropout(0.2)(tower_4)\n",
    "\n",
    "    sentence_vector = concatenate([tower_1,tower_2,tower_3,tower_4], name=\"sentence_vector\")  #,tower_4\n",
    "    #输出层\n",
    "    #sentence_vector = Flatten()(sentence_vector)\n",
    "    sentence_vector = Dropout(0.2)(sentence_vector)\n",
    "    output = Dense(all_labels.shape[1], activation='softmax')(sentence_vector)\n",
    "\n",
    "    model = Model(inputs=main_input, outputs=output)\n",
    "    return model\n",
    "\n",
    "Inception_v2_model = init_Inception_v2_model(MAX_SEQUENCE_LENGTH, embedding_layer)\n",
    "Inception_v2_model.summary()"
   ]
  },
  {
   "cell_type": "code",
   "execution_count": 53,
   "metadata": {},
   "outputs": [
    {
     "name": "stdout",
     "output_type": "stream",
     "text": [
      "Train on 12060 samples, validate on 3016 samples\n",
      "Epoch 1/20\n",
      "12060/12060 [==============================] - 97s 8ms/step - loss: 0.3509 - acc: 0.8925 - val_loss: 1.4585 - val_acc: 0.6015\n",
      "Epoch 2/20\n",
      "12060/12060 [==============================] - 93s 8ms/step - loss: 0.1600 - acc: 0.9550 - val_loss: 1.6935 - val_acc: 0.6071\n",
      "Epoch 3/20\n",
      "12060/12060 [==============================] - 94s 8ms/step - loss: 0.0821 - acc: 0.9784 - val_loss: 1.9069 - val_acc: 0.5975\n",
      "Epoch 4/20\n",
      "12060/12060 [==============================] - 96s 8ms/step - loss: 0.0574 - acc: 0.9847 - val_loss: 2.0371 - val_acc: 0.6091\n",
      "Epoch 5/20\n",
      "12060/12060 [==============================] - 97s 8ms/step - loss: 0.0409 - acc: 0.9895 - val_loss: 2.4617 - val_acc: 0.5912\n",
      "Epoch 6/20\n",
      "12060/12060 [==============================] - 98s 8ms/step - loss: 0.0275 - acc: 0.9941 - val_loss: 2.0402 - val_acc: 0.6104\n",
      "Epoch 7/20\n",
      "12060/12060 [==============================] - 98s 8ms/step - loss: 0.0208 - acc: 0.9950 - val_loss: 2.0958 - val_acc: 0.6214\n",
      "Epoch 8/20\n",
      "12060/12060 [==============================] - 94s 8ms/step - loss: 0.0201 - acc: 0.9951 - val_loss: 2.2337 - val_acc: 0.6240\n",
      "Epoch 9/20\n",
      "12060/12060 [==============================] - 98s 8ms/step - loss: 0.0145 - acc: 0.9963 - val_loss: 2.3940 - val_acc: 0.6144\n",
      "Epoch 10/20\n",
      "12060/12060 [==============================] - 95s 8ms/step - loss: 0.0157 - acc: 0.9955 - val_loss: 2.7124 - val_acc: 0.6074\n",
      "Epoch 11/20\n",
      "12060/12060 [==============================] - 97s 8ms/step - loss: 0.0115 - acc: 0.9967 - val_loss: 2.4771 - val_acc: 0.6194\n",
      "Epoch 12/20\n",
      "12060/12060 [==============================] - 96s 8ms/step - loss: 0.0151 - acc: 0.9949 - val_loss: 2.4386 - val_acc: 0.6204\n",
      "Epoch 13/20\n",
      "12060/12060 [==============================] - 100s 8ms/step - loss: 0.0120 - acc: 0.9970 - val_loss: 2.6863 - val_acc: 0.6167\n",
      "Epoch 14/20\n",
      "12060/12060 [==============================] - 97s 8ms/step - loss: 0.0116 - acc: 0.9968 - val_loss: 2.6556 - val_acc: 0.6316\n",
      "Epoch 15/20\n",
      "12060/12060 [==============================] - 97s 8ms/step - loss: 0.0081 - acc: 0.9986 - val_loss: 2.9526 - val_acc: 0.6164\n",
      "Epoch 16/20\n",
      "12060/12060 [==============================] - 94s 8ms/step - loss: 0.0101 - acc: 0.9972 - val_loss: 2.7486 - val_acc: 0.6147\n",
      "Epoch 17/20\n",
      "12060/12060 [==============================] - 95s 8ms/step - loss: 0.0081 - acc: 0.9982 - val_loss: 3.0613 - val_acc: 0.6068\n",
      "Epoch 18/20\n",
      "12060/12060 [==============================] - 92s 8ms/step - loss: 0.0115 - acc: 0.9967 - val_loss: 2.9740 - val_acc: 0.6038\n",
      "Epoch 19/20\n",
      "12060/12060 [==============================] - 91s 8ms/step - loss: 0.0087 - acc: 0.9977 - val_loss: 2.9635 - val_acc: 0.6124\n",
      "Epoch 20/20\n",
      "12060/12060 [==============================] - 96s 8ms/step - loss: 0.0096 - acc: 0.9973 - val_loss: 3.1511 - val_acc: 0.6025\n"
     ]
    }
   ],
   "source": [
    "Inception_v2_model.compile(loss='categorical_crossentropy',\n",
    "              optimizer='rmsprop',#adam,sgd,rmsprop\n",
    "              metrics=['accuracy'])\n",
    "\n",
    "from keras.callbacks import ModelCheckpoint\n",
    "init_flag = True #是否训练模型\n",
    "model_path = 'saved_models/weights.best.Inception_v2.hdf5'\n",
    "if init_flag:\n",
    "    ### 训练模型\n",
    "    checkpointer = ModelCheckpoint(filepath=model_path, save_best_only=True)\n",
    "    history = Inception_v2_model.fit(X_train_sequences, y_train_labels, validation_data=(X_val_sequences, y_val_labels),\n",
    "              epochs=20, batch_size=128, callbacks=[checkpointer])"
   ]
  },
  {
   "cell_type": "markdown",
   "metadata": {},
   "source": [
    "训练集和验证集的损失曲线："
   ]
  },
  {
   "cell_type": "code",
   "execution_count": 55,
   "metadata": {},
   "outputs": [
    {
     "data": {
      "image/png": "[encoded data removed]",
      "text/plain": [
       "<matplotlib.figure.Figure at 0x1a94f4d9e8>"
      ]
     },
     "metadata": {},
     "output_type": "display_data"
    }
   ],
   "source": [
    "import matplotlib.pyplot as plt\n",
    "#from scipy import misc\n",
    "img_path = 'InceptionV2_loss.png'\n",
    "if init_flag:\n",
    "    loss = history.history['loss']\n",
    "    val_loss = history.history['val_loss']\n",
    "    epochs = range(1, len(loss) + 1)\n",
    "    plt.plot(epochs, loss, 'bo', label='Training loss')\n",
    "    plt.plot(epochs, val_loss, 'b', label='Validation loss')\n",
    "    plt.title('Training and validation loss')\n",
    "    plt.xlabel('Epochs')\n",
    "    plt.ylabel('Loss')\n",
    "    plt.legend()\n",
    "    plt.savefig(img_path, dpi=75)\n",
    "    plt.show()\n",
    "else:\n",
    "    image = plt.imread(img_path)\n",
    "    #misc.imresize(image, (450,300))\n",
    "    plt.imshow(image)\n",
    "    plt.axis('off') # clear x- and y-axes  \n",
    "    plt.show()"
   ]
  },
  {
   "cell_type": "markdown",
   "metadata": {},
   "source": [
    "训练集和验证集的正确率曲线："
   ]
  },
  {
   "cell_type": "code",
   "execution_count": 57,
   "metadata": {},
   "outputs": [
    {
     "data": {
      "image/png": "[encoded data removed]",
      "text/plain": [
       "<matplotlib.figure.Figure at 0x1a94f4d748>"
      ]
     },
     "metadata": {},
     "output_type": "display_data"
    }
   ],
   "source": [
    "plt.clf()   # clear figure\n",
    "plt.clf()   # clear figure\n",
    "img_path = 'InceptionV2_acc.png'\n",
    "if init_flag:\n",
    "    acc = history.history['acc']\n",
    "    val_acc = history.history['val_acc']\n",
    "    plt.plot(epochs, acc, 'bo', label='Training acc')\n",
    "    plt.plot(epochs, val_acc, 'b', label='Validation acc')\n",
    "    plt.title('Training and validation accuracy')\n",
    "    plt.xlabel('Epochs')\n",
    "    plt.ylabel('Accuracy')\n",
    "    plt.legend()\n",
    "    plt.savefig(img_path, dpi=75)\n",
    "    plt.show()\n",
    "else:\n",
    "    image = plt.imread(img_path)\n",
    "    #misc.imresize(image, (450,300))\n",
    "    plt.imshow(image)  \n",
    "    plt.axis('off') # clear x- and y-axes  \n",
    "    plt.show()"
   ]
  },
  {
   "cell_type": "markdown",
   "metadata": {},
   "source": [
    "通过图像分析，Inception v2模型很快就出现了过拟合，图像波动起伏非常明显；验证集的log loss损失开始下降了一下，后来开始大幅上升；而验证集的准确率也在一直剧烈波动，该模型表现不理想。"
   ]
  },
  {
   "cell_type": "markdown",
   "metadata": {},
   "source": [
    "对验证集使用最佳验证loss进行验证"
   ]
  },
  {
   "cell_type": "code",
   "execution_count": 60,
   "metadata": {},
   "outputs": [
    {
     "name": "stdout",
     "output_type": "stream",
     "text": [
      "3016/3016 [==============================] - 7s 2ms/step\n",
      "[1.458523661925875, 0.60145888594164454]\n"
     ]
    }
   ],
   "source": [
    "### 加载具有最佳验证loss的模型权重\n",
    "Inception_v2_model.load_weights(model_path)\n",
    "print(Inception_v2_model.evaluate(X_val_sequences, y_val_labels))"
   ]
  },
  {
   "cell_type": "markdown",
   "metadata": {},
   "source": [
    "CNN 模型"
   ]
  },
  {
   "cell_type": "code",
   "execution_count": 62,
   "metadata": {},
   "outputs": [
    {
     "name": "stdout",
     "output_type": "stream",
     "text": [
      "__________________________________________________________________________________________________\n",
      "Layer (type)                    Output Shape         Param #     Connected to                     \n",
      "==================================================================================================\n",
      "main_input (InputLayer)         (None, 500)          0                                            \n",
      "__________________________________________________________________________________________________\n",
      "embedding_1 (Embedding)         (None, 500, 200)     19636400    main_input[0][0]                 \n",
      "__________________________________________________________________________________________________\n",
      "conv1d_15 (Conv1D)              (None, 500, 64)      12864       embedding_1[2][0]                \n",
      "__________________________________________________________________________________________________\n",
      "conv1d_16 (Conv1D)              (None, 500, 64)      25664       embedding_1[2][0]                \n",
      "__________________________________________________________________________________________________\n",
      "conv1d_17 (Conv1D)              (None, 500, 64)      38464       embedding_1[2][0]                \n",
      "__________________________________________________________________________________________________\n",
      "conv1d_18 (Conv1D)              (None, 500, 64)      51264       embedding_1[2][0]                \n",
      "__________________________________________________________________________________________________\n",
      "max_pooling1d_3 (MaxPooling1D)  (None, 500, 64)      0           conv1d_15[0][0]                  \n",
      "__________________________________________________________________________________________________\n",
      "max_pooling1d_4 (MaxPooling1D)  (None, 500, 64)      0           conv1d_16[0][0]                  \n",
      "__________________________________________________________________________________________________\n",
      "max_pooling1d_5 (MaxPooling1D)  (None, 500, 64)      0           conv1d_17[0][0]                  \n",
      "__________________________________________________________________________________________________\n",
      "max_pooling1d_6 (MaxPooling1D)  (None, 500, 64)      0           conv1d_18[0][0]                  \n",
      "__________________________________________________________________________________________________\n",
      "flatten_9 (Flatten)             (None, 32000)        0           max_pooling1d_3[0][0]            \n",
      "__________________________________________________________________________________________________\n",
      "flatten_10 (Flatten)            (None, 32000)        0           max_pooling1d_4[0][0]            \n",
      "__________________________________________________________________________________________________\n",
      "flatten_11 (Flatten)            (None, 32000)        0           max_pooling1d_5[0][0]            \n",
      "__________________________________________________________________________________________________\n",
      "flatten_12 (Flatten)            (None, 32000)        0           max_pooling1d_6[0][0]            \n",
      "__________________________________________________________________________________________________\n",
      "dropout_11 (Dropout)            (None, 32000)        0           flatten_9[0][0]                  \n",
      "__________________________________________________________________________________________________\n",
      "dropout_12 (Dropout)            (None, 32000)        0           flatten_10[0][0]                 \n",
      "__________________________________________________________________________________________________\n",
      "dropout_13 (Dropout)            (None, 32000)        0           flatten_11[0][0]                 \n",
      "__________________________________________________________________________________________________\n",
      "dropout_14 (Dropout)            (None, 32000)        0           flatten_12[0][0]                 \n",
      "__________________________________________________________________________________________________\n",
      "sentence_vector (Concatenate)   (None, 128000)       0           dropout_11[0][0]                 \n",
      "                                                                 dropout_12[0][0]                 \n",
      "                                                                 dropout_13[0][0]                 \n",
      "                                                                 dropout_14[0][0]                 \n",
      "__________________________________________________________________________________________________\n",
      "dropout_15 (Dropout)            (None, 128000)       0           sentence_vector[0][0]            \n",
      "__________________________________________________________________________________________________\n",
      "dense_3 (Dense)                 (None, 20)           2560020     dropout_15[0][0]                 \n",
      "==================================================================================================\n",
      "Total params: 22,324,676\n",
      "Trainable params: 2,688,276\n",
      "Non-trainable params: 19,636,400\n",
      "__________________________________________________________________________________________________\n"
     ]
    }
   ],
   "source": [
    "#定义模型\n",
    "def init_CNN_model(MAX_SEQUENCE_LENGTH,embedding_layer):\n",
    "    main_input = Input(shape=(MAX_SEQUENCE_LENGTH,), dtype='float32' , name='main_input')\n",
    "    x = embedding_layer(main_input)\n",
    "\n",
    "    tower_1 = Conv1D(filters=64, kernel_size=1, padding='same', activation='relu')(x)\n",
    "    tower_1 = MaxPooling1D(pool_size=4, strides=1, padding='same')(tower_1)\n",
    "    tower_1 = Flatten()(tower_1)\n",
    "    tower_1 = Dropout(0.2)(tower_1)\n",
    "\n",
    "    tower_2 = Conv1D(filters=64, kernel_size=2, padding='same', activation='relu')(x)\n",
    "    tower_2 = MaxPooling1D(pool_size=3, strides=1, padding='same')(tower_2)\n",
    "    tower_2 = Flatten()(tower_2)\n",
    "    tower_2 = Dropout(0.2)(tower_2)\n",
    "\n",
    "    tower_3 = Conv1D(filters=64, kernel_size=3, padding='same', activation='relu')(x)\n",
    "    tower_3 = MaxPooling1D(pool_size=2, strides=1, padding='same')(tower_3)\n",
    "    tower_3 = Flatten()(tower_3)\n",
    "    tower_3 = Dropout(0.2)(tower_3)\n",
    "\n",
    "    tower_4 = Conv1D(filters=64, kernel_size=4, padding='same', activation='relu')(x)\n",
    "    tower_4 = MaxPooling1D(pool_size=1, strides=1, padding='same')(tower_4)\n",
    "    tower_4 = Flatten()(tower_4)\n",
    "    tower_4 = Dropout(0.2)(tower_4)\n",
    "\n",
    "    sentence_vector = concatenate([tower_1,tower_2,tower_3,tower_4], name=\"sentence_vector\")  #,tower_4\n",
    "    #输出层\n",
    "    #sentence_vector = Flatten()(sentence_vector)\n",
    "    sentence_vector = Dropout(0.2)(sentence_vector)\n",
    "    output = Dense(all_labels.shape[1], activation='softmax')(sentence_vector)\n",
    "\n",
    "    model = Model(inputs=main_input, outputs=output)\n",
    "    return model\n",
    "\n",
    "CNN_model = init_CNN_model(MAX_SEQUENCE_LENGTH,embedding_layer)\n",
    "CNN_model.summary()"
   ]
  },
  {
   "cell_type": "code",
   "execution_count": 63,
   "metadata": {},
   "outputs": [],
   "source": [
    "CNN_model.compile(loss='categorical_crossentropy',\n",
    "              optimizer='rmsprop',#adam,sgd,rmsprop\n",
    "              metrics=['accuracy'])"
   ]
  },
  {
   "cell_type": "code",
   "execution_count": 64,
   "metadata": {},
   "outputs": [
    {
     "name": "stdout",
     "output_type": "stream",
     "text": [
      "Train on 12060 samples, validate on 3016 samples\n",
      "Epoch 1/20\n",
      "12060/12060 [==============================] - 113s 9ms/step - loss: 3.0903 - acc: 0.4580 - val_loss: 1.2043 - val_acc: 0.6124\n",
      "Epoch 2/20\n",
      "12060/12060 [==============================] - 111s 9ms/step - loss: 0.6943 - acc: 0.7920 - val_loss: 1.2436 - val_acc: 0.6409\n",
      "Epoch 3/20\n",
      "12060/12060 [==============================] - 111s 9ms/step - loss: 0.2971 - acc: 0.9106 - val_loss: 1.3969 - val_acc: 0.6393\n",
      "Epoch 4/20\n",
      "12060/12060 [==============================] - 117s 10ms/step - loss: 0.1474 - acc: 0.9603 - val_loss: 1.4137 - val_acc: 0.6714\n",
      "Epoch 5/20\n",
      "12060/12060 [==============================] - 112s 9ms/step - loss: 0.0811 - acc: 0.9786 - val_loss: 1.6274 - val_acc: 0.6366\n",
      "Epoch 6/20\n",
      "12060/12060 [==============================] - 114s 9ms/step - loss: 0.0500 - acc: 0.9889 - val_loss: 1.6292 - val_acc: 0.6698\n",
      "Epoch 7/20\n",
      "12060/12060 [==============================] - 111s 9ms/step - loss: 0.0436 - acc: 0.9898 - val_loss: 1.8375 - val_acc: 0.6611\n",
      "Epoch 8/20\n",
      "12060/12060 [==============================] - 114s 9ms/step - loss: 0.0312 - acc: 0.9930 - val_loss: 1.9619 - val_acc: 0.6545\n",
      "Epoch 9/20\n",
      "12060/12060 [==============================] - 115s 10ms/step - loss: 0.0251 - acc: 0.9951 - val_loss: 2.1059 - val_acc: 0.6515\n",
      "Epoch 10/20\n",
      "12060/12060 [==============================] - 110s 9ms/step - loss: 0.0246 - acc: 0.9948 - val_loss: 2.2023 - val_acc: 0.6512\n",
      "Epoch 11/20\n",
      "12060/12060 [==============================] - 119s 10ms/step - loss: 0.0192 - acc: 0.9964 - val_loss: 2.2376 - val_acc: 0.6605\n",
      "Epoch 12/20\n",
      "12060/12060 [==============================] - 127s 11ms/step - loss: 0.0249 - acc: 0.9954 - val_loss: 2.2607 - val_acc: 0.6615\n",
      "Epoch 13/20\n",
      "12060/12060 [==============================] - 110s 9ms/step - loss: 0.0175 - acc: 0.9971 - val_loss: 2.5290 - val_acc: 0.6512\n",
      "Epoch 14/20\n",
      "12060/12060 [==============================] - 110s 9ms/step - loss: 0.0211 - acc: 0.9959 - val_loss: 2.6544 - val_acc: 0.6436\n",
      "Epoch 15/20\n",
      "12060/12060 [==============================] - 117s 10ms/step - loss: 0.0231 - acc: 0.9955 - val_loss: 2.8931 - val_acc: 0.6429\n",
      "Epoch 16/20\n",
      "12060/12060 [==============================] - 127s 10ms/step - loss: 0.0155 - acc: 0.9974 - val_loss: 2.6937 - val_acc: 0.6475\n",
      "Epoch 17/20\n",
      "12060/12060 [==============================] - 140s 12ms/step - loss: 0.0177 - acc: 0.9974 - val_loss: 2.9019 - val_acc: 0.6379\n",
      "Epoch 18/20\n",
      "12060/12060 [==============================] - 131s 11ms/step - loss: 0.0155 - acc: 0.9964 - val_loss: 2.7216 - val_acc: 0.6635\n",
      "Epoch 19/20\n",
      "12060/12060 [==============================] - 128s 11ms/step - loss: 0.0174 - acc: 0.9973 - val_loss: 2.7999 - val_acc: 0.6658\n",
      "Epoch 20/20\n",
      "12060/12060 [==============================] - 121s 10ms/step - loss: 0.0144 - acc: 0.9975 - val_loss: 2.9814 - val_acc: 0.6492\n"
     ]
    }
   ],
   "source": [
    "from keras.callbacks import ModelCheckpoint\n",
    "init_flag = True #是否训练模型\n",
    "model_path = 'saved_models/weights.best.CNN.hdf5'\n",
    "if init_flag:\n",
    "    ### 训练模型\n",
    "    checkpointer = ModelCheckpoint(filepath=model_path, save_best_only=True)\n",
    "    history = CNN_model.fit(X_train_sequences, y_train_labels, validation_data=(X_val_sequences, y_val_labels),\n",
    "              epochs=20, batch_size=128, callbacks=[checkpointer])"
   ]
  },
  {
   "cell_type": "markdown",
   "metadata": {},
   "source": [
    "训练集和验证集的损失曲线："
   ]
  },
  {
   "cell_type": "code",
   "execution_count": 68,
   "metadata": {},
   "outputs": [
    {
     "data": {
      "image/png": "[encoded data removed]",
      "text/plain": [
       "<matplotlib.figure.Figure at 0x1a9690d198>"
      ]
     },
     "metadata": {},
     "output_type": "display_data"
    }
   ],
   "source": [
    "import matplotlib.pyplot as plt\n",
    "#from scipy import misc\n",
    "img_path = 'CNN_loss.png'\n",
    "if init_flag:\n",
    "    loss = history.history['loss']\n",
    "    val_loss = history.history['val_loss']\n",
    "    epochs = range(1, len(loss) + 1)\n",
    "    plt.plot(epochs, loss, 'bo', label='Training loss')\n",
    "    plt.plot(epochs, val_loss, 'b', label='Validation loss')\n",
    "    plt.title('Training and validation loss')\n",
    "    plt.xlabel('Epochs')\n",
    "    plt.ylabel('Loss')\n",
    "    plt.legend()\n",
    "    plt.savefig(img_path, dpi=75)\n",
    "    plt.show()\n",
    "else:\n",
    "    image = plt.imread(img_path)\n",
    "    #misc.imresize(image, (450,300))\n",
    "    plt.imshow(image)\n",
    "    plt.axis('off') # clear x- and y-axes  \n",
    "    plt.show()\n",
    "\n",
    "    "
   ]
  },
  {
   "cell_type": "markdown",
   "metadata": {},
   "source": [
    "训练集和验证集的正确率曲线："
   ]
  },
  {
   "cell_type": "code",
   "execution_count": 70,
   "metadata": {},
   "outputs": [
    {
     "data": {
      "image/png": "[encoded data removed]",
      "text/plain": [
       "<matplotlib.figure.Figure at 0x1a965fbf98>"
      ]
     },
     "metadata": {},
     "output_type": "display_data"
    }
   ],
   "source": [
    "plt.clf()   # clear figure\n",
    "plt.clf()   # clear figure\n",
    "img_path = 'CNN_acc.png'\n",
    "if init_flag:\n",
    "    acc = history.history['acc']\n",
    "    val_acc = history.history['val_acc']\n",
    "    plt.plot(epochs, acc, 'bo', label='Training acc')\n",
    "    plt.plot(epochs, val_acc, 'b', label='Validation acc')\n",
    "    plt.title('Training and validation accuracy')\n",
    "    plt.xlabel('Epochs')\n",
    "    plt.ylabel('Accuracy')\n",
    "    plt.legend()\n",
    "    plt.savefig(img_path, dpi=75)\n",
    "    plt.show()\n",
    "else:\n",
    "    image = plt.imread(img_path)\n",
    "    misc.imresize(image, (450,300))\n",
    "    plt.imshow(image)  \n",
    "    plt.axis('off') # clear x- and y-axes  \n",
    "    plt.show()"
   ]
  },
  {
   "cell_type": "markdown",
   "metadata": {},
   "source": [
    "通过图像分析，CNN模型很快就出现了过拟合，图像波动起伏非常明显；验证集的log loss损失开始下降了一下，后来开始大幅上升；而验证集的准确率也在一直剧烈波动，该模型表现不理想。\n"
   ]
  },
  {
   "cell_type": "markdown",
   "metadata": {},
   "source": [
    "对验证集使用最佳验证loss进行验证"
   ]
  },
  {
   "cell_type": "code",
   "execution_count": 74,
   "metadata": {},
   "outputs": [
    {
     "name": "stdout",
     "output_type": "stream",
     "text": [
      "3016/3016 [==============================] - 10s 3ms/step\n",
      "[1.2043281788851286, 0.6124005305039788]\n"
     ]
    }
   ],
   "source": [
    "### 加载具有最佳验证loss的模型权重\n",
    "CNN_model.load_weights(model_path)\n",
    "print(CNN_model.evaluate(X_val_sequences, y_val_labels))"
   ]
  },
  {
   "cell_type": "markdown",
   "metadata": {},
   "source": [
    "LSTM模型"
   ]
  },
  {
   "cell_type": "code",
   "execution_count": 76,
   "metadata": {},
   "outputs": [
    {
     "name": "stdout",
     "output_type": "stream",
     "text": [
      "_________________________________________________________________\n",
      "Layer (type)                 Output Shape              Param #   \n",
      "=================================================================\n",
      "embedding_1 (Embedding)      (None, 500, 200)          19636400  \n",
      "_________________________________________________________________\n",
      "lstm_1 (LSTM)                (None, 200)               320800    \n",
      "_________________________________________________________________\n",
      "dropout_16 (Dropout)         (None, 200)               0         \n",
      "_________________________________________________________________\n",
      "dense_4 (Dense)              (None, 20)                4020      \n",
      "=================================================================\n",
      "Total params: 19,961,220\n",
      "Trainable params: 324,820\n",
      "Non-trainable params: 19,636,400\n",
      "_________________________________________________________________\n"
     ]
    }
   ],
   "source": [
    "from keras.initializers import RandomNormal\n",
    "#定义模型\n",
    "def init_LSTM_model(MAX_SEQUENCE_LENGTH,embedding_layer):\n",
    "    model = Sequential()\n",
    "    model.add(embedding_layer)\n",
    "    #model.add(LSTM(200, dropout=0.2, recurrent_dropout=0.2))#recurrent_regularizer=RandomNormal(stddev=0.01,seed=0.1)\n",
    "    model.add(LSTM(200, dropout=0.2, recurrent_dropout=0.2))#kernel_regularizer=RandomNormal(stddev=0.01,seed=0.1),\n",
    "    model.add(Dropout(0.2))\n",
    "    model.add(Dense(all_labels.shape[1], activation='softmax'))\n",
    "    return model\n",
    "\n",
    "LSTM_model = init_LSTM_model(MAX_SEQUENCE_LENGTH,embedding_layer)\n",
    "LSTM_model.summary()"
   ]
  },
  {
   "cell_type": "code",
   "execution_count": 77,
   "metadata": {},
   "outputs": [],
   "source": [
    "LSTM_model.compile(loss='categorical_crossentropy',\n",
    "              optimizer='rmsprop',#adam,sgd,rmsprop\n",
    "              metrics=['accuracy'])"
   ]
  },
  {
   "cell_type": "code",
   "execution_count": 78,
   "metadata": {},
   "outputs": [
    {
     "name": "stdout",
     "output_type": "stream",
     "text": [
      "Train on 12060 samples, validate on 3016 samples\n",
      "Epoch 1/40\n",
      "12060/12060 [==============================] - 307s 25ms/step - loss: 1.9159 - acc: 0.3653 - val_loss: 1.4081 - val_acc: 0.4731\n",
      "Epoch 2/40\n",
      "12060/12060 [==============================] - 295s 24ms/step - loss: 1.3985 - acc: 0.5130 - val_loss: 1.3088 - val_acc: 0.5371\n",
      "Epoch 3/40\n",
      "12060/12060 [==============================] - 307s 25ms/step - loss: 1.2435 - acc: 0.5757 - val_loss: 1.1591 - val_acc: 0.5782\n",
      "Epoch 4/40\n",
      "12060/12060 [==============================] - 309s 26ms/step - loss: 1.1255 - acc: 0.6210 - val_loss: 1.0220 - val_acc: 0.6472\n",
      "Epoch 5/40\n",
      "12060/12060 [==============================] - 309s 26ms/step - loss: 0.9953 - acc: 0.6559 - val_loss: 0.9330 - val_acc: 0.6688\n",
      "Epoch 6/40\n",
      "12060/12060 [==============================] - 319s 26ms/step - loss: 0.9040 - acc: 0.6939 - val_loss: 0.9243 - val_acc: 0.6903\n",
      "Epoch 7/40\n",
      "12060/12060 [==============================] - 316s 26ms/step - loss: 0.8199 - acc: 0.7223 - val_loss: 0.8005 - val_acc: 0.7248\n",
      "Epoch 8/40\n",
      "12060/12060 [==============================] - 317s 26ms/step - loss: 0.7573 - acc: 0.7454 - val_loss: 0.7393 - val_acc: 0.7563\n",
      "Epoch 9/40\n",
      "12060/12060 [==============================] - 322s 27ms/step - loss: 0.7016 - acc: 0.7624 - val_loss: 0.7483 - val_acc: 0.7487\n",
      "Epoch 10/40\n",
      "12060/12060 [==============================] - 316s 26ms/step - loss: 0.6440 - acc: 0.7860 - val_loss: 0.6817 - val_acc: 0.7769\n",
      "Epoch 11/40\n",
      "12060/12060 [==============================] - 317s 26ms/step - loss: 0.5988 - acc: 0.8029 - val_loss: 0.6874 - val_acc: 0.7815\n",
      "Epoch 12/40\n",
      "12060/12060 [==============================] - 317s 26ms/step - loss: 0.5539 - acc: 0.8148 - val_loss: 0.6355 - val_acc: 0.8014\n",
      "Epoch 13/40\n",
      "12060/12060 [==============================] - 304s 25ms/step - loss: 0.5132 - acc: 0.8280 - val_loss: 0.6287 - val_acc: 0.7948\n",
      "Epoch 14/40\n",
      "12060/12060 [==============================] - 299s 25ms/step - loss: 0.4852 - acc: 0.8375 - val_loss: 0.6119 - val_acc: 0.7951\n",
      "Epoch 15/40\n",
      "12060/12060 [==============================] - 299s 25ms/step - loss: 0.4434 - acc: 0.8507 - val_loss: 0.5970 - val_acc: 0.8090\n",
      "Epoch 16/40\n",
      "12060/12060 [==============================] - 298s 25ms/step - loss: 0.4199 - acc: 0.8654 - val_loss: 0.5822 - val_acc: 0.8203\n",
      "Epoch 17/40\n",
      "12060/12060 [==============================] - 456s 38ms/step - loss: 0.3947 - acc: 0.8697 - val_loss: 0.5845 - val_acc: 0.8153\n",
      "Epoch 18/40\n",
      "12060/12060 [==============================] - 477s 40ms/step - loss: 0.3677 - acc: 0.8796 - val_loss: 0.5681 - val_acc: 0.8203\n",
      "Epoch 19/40\n",
      "12060/12060 [==============================] - 484s 40ms/step - loss: 0.3405 - acc: 0.8879 - val_loss: 0.5915 - val_acc: 0.8173\n",
      "Epoch 20/40\n",
      "12060/12060 [==============================] - 481s 40ms/step - loss: 0.3215 - acc: 0.8917 - val_loss: 0.5852 - val_acc: 0.8200\n",
      "Epoch 21/40\n",
      "12060/12060 [==============================] - 470s 39ms/step - loss: 0.3077 - acc: 0.9013 - val_loss: 0.5728 - val_acc: 0.8273\n",
      "Epoch 22/40\n",
      "12060/12060 [==============================] - 475s 39ms/step - loss: 0.2908 - acc: 0.9066 - val_loss: 0.5907 - val_acc: 0.8229\n",
      "Epoch 23/40\n",
      "12060/12060 [==============================] - 473s 39ms/step - loss: 0.2649 - acc: 0.9163 - val_loss: 0.6055 - val_acc: 0.8176\n",
      "Epoch 24/40\n",
      "12060/12060 [==============================] - 466s 39ms/step - loss: 0.2508 - acc: 0.9194 - val_loss: 0.5912 - val_acc: 0.8246\n",
      "Epoch 25/40\n",
      "12060/12060 [==============================] - 362s 30ms/step - loss: 0.2472 - acc: 0.9180 - val_loss: 0.5624 - val_acc: 0.8319\n",
      "Epoch 26/40\n",
      "12060/12060 [==============================] - 312s 26ms/step - loss: 0.2277 - acc: 0.9272 - val_loss: 0.5913 - val_acc: 0.8316\n",
      "Epoch 27/40\n",
      "12060/12060 [==============================] - 310s 26ms/step - loss: 0.2122 - acc: 0.9305 - val_loss: 0.5890 - val_acc: 0.8302\n",
      "Epoch 28/40\n",
      "12060/12060 [==============================] - 308s 26ms/step - loss: 0.2069 - acc: 0.9321 - val_loss: 0.5794 - val_acc: 0.8339\n",
      "Epoch 29/40\n",
      "12060/12060 [==============================] - 301s 25ms/step - loss: 0.1951 - acc: 0.9362 - val_loss: 0.5942 - val_acc: 0.8336\n",
      "Epoch 30/40\n",
      "12060/12060 [==============================] - 310s 26ms/step - loss: 0.1898 - acc: 0.9355 - val_loss: 0.6317 - val_acc: 0.8276\n",
      "Epoch 31/40\n",
      "12060/12060 [==============================] - 323s 27ms/step - loss: 0.1755 - acc: 0.9419 - val_loss: 0.5678 - val_acc: 0.8389\n",
      "Epoch 32/40\n",
      "12060/12060 [==============================] - 331s 27ms/step - loss: 0.1648 - acc: 0.9455 - val_loss: 0.6037 - val_acc: 0.8422\n",
      "Epoch 33/40\n",
      "12060/12060 [==============================] - 333s 28ms/step - loss: 0.1527 - acc: 0.9493 - val_loss: 0.6035 - val_acc: 0.8408\n",
      "Epoch 34/40\n",
      "12060/12060 [==============================] - 331s 27ms/step - loss: 0.1501 - acc: 0.9512 - val_loss: 0.5706 - val_acc: 0.8385\n",
      "Epoch 35/40\n",
      "12060/12060 [==============================] - 318s 26ms/step - loss: 0.1428 - acc: 0.9570 - val_loss: 0.5968 - val_acc: 0.8369\n",
      "Epoch 36/40\n",
      "12060/12060 [==============================] - 329s 27ms/step - loss: 0.1320 - acc: 0.9566 - val_loss: 0.6137 - val_acc: 0.8432\n",
      "Epoch 37/40\n",
      "12060/12060 [==============================] - 321s 27ms/step - loss: 0.1340 - acc: 0.9570 - val_loss: 0.6059 - val_acc: 0.8418\n",
      "Epoch 38/40\n",
      "12060/12060 [==============================] - 321s 27ms/step - loss: 0.1187 - acc: 0.9618 - val_loss: 0.6161 - val_acc: 0.8428\n",
      "Epoch 39/40\n",
      "12060/12060 [==============================] - 329s 27ms/step - loss: 0.1190 - acc: 0.9618 - val_loss: 0.6033 - val_acc: 0.8445\n",
      "Epoch 40/40\n",
      "12060/12060 [==============================] - 305s 25ms/step - loss: 0.1081 - acc: 0.9664 - val_loss: 0.6259 - val_acc: 0.8412\n"
     ]
    }
   ],
   "source": [
    "from keras.callbacks import ModelCheckpoint\n",
    "init_flag = True #是否训练模型\n",
    "model_path = 'saved_models/weights.best.LSTM.hdf5'\n",
    "if init_flag:\n",
    "    ### 训练模型\n",
    "    checkpointer = ModelCheckpoint(filepath=model_path, save_best_only=True)\n",
    "    history = LSTM_model.fit(X_train_sequences, y_train_labels, validation_data=(X_val_sequences, y_val_labels),\n",
    "              epochs=40, batch_size=128, callbacks=[checkpointer])"
   ]
  },
  {
   "cell_type": "markdown",
   "metadata": {},
   "source": [
    "训练集和验证集的损失曲线："
   ]
  },
  {
   "cell_type": "code",
   "execution_count": 80,
   "metadata": {},
   "outputs": [
    {
     "data": {
      "image/png": "[encoded data removed]",
      "text/plain": [
       "<matplotlib.figure.Figure at 0x1a96653630>"
      ]
     },
     "metadata": {},
     "output_type": "display_data"
    }
   ],
   "source": [
    "import matplotlib.pyplot as plt\n",
    "from scipy import misc\n",
    "img_path = 'LSTM_loss.png'\n",
    "if init_flag:\n",
    "    loss = history.history['loss']\n",
    "    val_loss = history.history['val_loss']\n",
    "    epochs = range(1, len(loss) + 1)\n",
    "    plt.plot(epochs, loss, 'bo', label='Training loss')\n",
    "    plt.plot(epochs, val_loss, 'b', label='Validation loss')\n",
    "    plt.title('Training and validation loss')\n",
    "    plt.xlabel('Epochs')\n",
    "    plt.ylabel('Loss')\n",
    "    plt.legend()\n",
    "    plt.savefig(img_path, dpi=75)\n",
    "    plt.show()\n",
    "else:\n",
    "    image = plt.imread(img_path)\n",
    "    misc.imresize(image, (450,300))\n",
    "    plt.imshow(image)\n",
    "    plt.axis('off') # clear x- and y-axes  \n",
    "    plt.show()"
   ]
  },
  {
   "cell_type": "markdown",
   "metadata": {},
   "source": [
    "训练集和验证集的正确率曲线："
   ]
  },
  {
   "cell_type": "code",
   "execution_count": 82,
   "metadata": {},
   "outputs": [
    {
     "data": {
      "image/png": "[encoded data removed]",
      "text/plain": [
       "<matplotlib.figure.Figure at 0x1a96d7e8d0>"
      ]
     },
     "metadata": {},
     "output_type": "display_data"
    }
   ],
   "source": [
    "plt.clf()   # clear figure\n",
    "plt.clf()   # clear figure\n",
    "img_path = 'LSTM_acc.png'\n",
    "if init_flag:\n",
    "    acc = history.history['acc']\n",
    "    val_acc = history.history['val_acc']\n",
    "    plt.plot(epochs, acc, 'bo', label='Training acc')\n",
    "    plt.plot(epochs, val_acc, 'b', label='Validation acc')\n",
    "    plt.title('Training and validation accuracy')\n",
    "    plt.xlabel('Epochs')\n",
    "    plt.ylabel('Accuracy')\n",
    "    plt.legend()\n",
    "    plt.savefig(img_path, dpi=75)\n",
    "    plt.show()\n",
    "else:\n",
    "    image = plt.imread(img_path)\n",
    "    misc.imresize(image, (450,300))\n",
    "    plt.imshow(image)  \n",
    "    plt.axis('off') # clear x- and y-axes  \n",
    "    plt.show()"
   ]
  },
  {
   "cell_type": "markdown",
   "metadata": {},
   "source": [
    "通过图像分析，LSTM模型在前15轮的表现很不错；在测试集和验证集上，log loss损失都在不断下降，准确率的曲线在不断上升；15轮之后，验证集开始出现过拟合了，曲线开始轻微波动，log loss不在明显下降，而准确率不在明显上升。总体来说，LSTM表现不错。"
   ]
  },
  {
   "cell_type": "markdown",
   "metadata": {},
   "source": [
    "对验证集使用最佳验证loss进行验证"
   ]
  },
  {
   "cell_type": "code",
   "execution_count": 87,
   "metadata": {},
   "outputs": [
    {
     "name": "stdout",
     "output_type": "stream",
     "text": [
      "3016/3016 [==============================] - 32s 11ms/step\n",
      "[0.56238101964287801, 0.8318965517241379]\n"
     ]
    }
   ],
   "source": [
    "# 加载具有最佳验证loss的模型权重\n",
    "model_path = 'saved_models/weights.best.LSTM.hdf5'\n",
    "LSTM_model.load_weights(model_path)\n",
    "print(LSTM_model.evaluate(X_val_sequences, y_val_labels))"
   ]
  },
  {
   "cell_type": "markdown",
   "metadata": {},
   "source": [
    "几种模型表现对比"
   ]
  },
  {
   "cell_type": "markdown",
   "metadata": {},
   "source": [
    "| 模型预测 |  Inception v2  | CNN | LSTM |\n",
    "|:-------:|:--------------:|:---:|:----:|\n",
    "| 准确率 | 0.60 |  0.61  |  0.83 |\n",
    "| log loss | 1.45 |  1.20  |  0.56 |\n",
    "| 单Epoch耗时 | 95s |  115s  |  325s |"
   ]
  },
  {
   "cell_type": "markdown",
   "metadata": {},
   "source": [
    "通过对比分析：LSTML的准确率最高，达到了0.83，log loss损失最低为0.56，明显比其他两个模型表现好，但是LSTM的耗时更长一些。因此，我们选择LSTM模型对测试集进行最终的预测。"
   ]
  },
  {
   "cell_type": "code",
   "execution_count": 91,
   "metadata": {},
   "outputs": [
    {
     "name": "stdout",
     "output_type": "stream",
     "text": [
      "3770/3770 [==============================] - 40s 11ms/step\n",
      "[0.5356616485024005, 0.84668434997452346]\n"
     ]
    }
   ],
   "source": [
    "print(LSTM_model.evaluate(X_test_sequences, y_test_labels))"
   ]
  },
  {
   "cell_type": "markdown",
   "metadata": {},
   "source": [
    "可以看出：在测试集上，准确率为0.84，log_loss为0.53，该结果相对来说还可以。"
   ]
  },
  {
   "cell_type": "markdown",
   "metadata": {},
   "source": [
    "| 模型预测 | LSTM | 基准模型 |\n",
    "|:-------:|:----:|:-------:|\n",
    "| 准确率 | 85% |  82%  |"
   ]
  },
  {
   "cell_type": "markdown",
   "metadata": {},
   "source": [
    "通过对比，可以看出，我们LSTM模型，对测试集的预测已经达到并超过了我们的基准模型的目标。"
   ]
  }
 ],
 "metadata": {
  "kernelspec": {
   "display_name": "Python 3",
   "language": "python",
   "name": "python3"
  },
  "language_info": {
   "codemirror_mode": {
    "name": "ipython",
    "version": 3
   },
   "file_extension": ".py",
   "mimetype": "text/x-python",
   "name": "python",
   "nbconvert_exporter": "python",
   "pygments_lexer": "ipython3",
   "version": "3.6.4"
  }
 },
 "nbformat": 4,
 "nbformat_minor": 2
}
